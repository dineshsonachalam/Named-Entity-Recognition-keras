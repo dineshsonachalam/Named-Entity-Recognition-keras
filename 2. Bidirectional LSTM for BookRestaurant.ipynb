{
 "cells": [
  {
   "cell_type": "markdown",
   "metadata": {},
   "source": [
    "### 1.Importing the necessary libraries"
   ]
  },
  {
   "cell_type": "code",
   "execution_count": 293,
   "metadata": {},
   "outputs": [],
   "source": [
    "import numpy as np # linear algebra\n",
    "import pandas as pd # data processing, CSV file I/O (e.g. pd.read_csv)\n",
    "from subprocess import check_output\n",
    "import matplotlib.pyplot as plt\n",
    "%matplotlib inline\n",
    "from keras.preprocessing.sequence import pad_sequences\n",
    "from keras.utils import to_categorical\n",
    "from sklearn.model_selection import train_test_split\n",
    "from keras.models import Model, Input\n",
    "from keras.layers import LSTM, Embedding, Dense, TimeDistributed, Dropout, Bidirectional\n",
    "from keras.preprocessing import sequence\n",
    "from keras.models import Sequential,Model,load_model\n",
    "from keras.layers import Embedding,Conv1D,MaxPooling1D\n",
    "from keras.layers.core import Dense, Activation,Dropout ,Flatten\n",
    "from keras.layers.recurrent import LSTM\n",
    "from keras.utils import np_utils\n",
    "from keras.preprocessing.image import ImageDataGenerator\n",
    "from keras.preprocessing import sequence\n",
    "from keras.preprocessing.text import text_to_word_sequence,one_hot,Tokenizer\n",
    "from keras.constraints import maxnorm"
   ]
  },
  {
   "cell_type": "markdown",
   "metadata": {},
   "source": [
    "### 2. Initialize the seed inorder to get the same output every single time"
   ]
  },
  {
   "cell_type": "code",
   "execution_count": 131,
   "metadata": {},
   "outputs": [],
   "source": [
    "seed = 120\n",
    "np.random.seed(seed)"
   ]
  },
  {
   "cell_type": "markdown",
   "metadata": {},
   "source": [
    "### 3. Loading the training data"
   ]
  },
  {
   "cell_type": "code",
   "execution_count": 132,
   "metadata": {},
   "outputs": [
    {
     "data": {
      "text/html": [
       "<div>\n",
       "<style scoped>\n",
       "    .dataframe tbody tr th:only-of-type {\n",
       "        vertical-align: middle;\n",
       "    }\n",
       "\n",
       "    .dataframe tbody tr th {\n",
       "        vertical-align: top;\n",
       "    }\n",
       "\n",
       "    .dataframe thead th {\n",
       "        text-align: right;\n",
       "    }\n",
       "</style>\n",
       "<table border=\"1\" class=\"dataframe\">\n",
       "  <thead>\n",
       "    <tr style=\"text-align: right;\">\n",
       "      <th></th>\n",
       "      <th>sentence_index</th>\n",
       "      <th>word</th>\n",
       "      <th>tag</th>\n",
       "    </tr>\n",
       "  </thead>\n",
       "  <tbody>\n",
       "    <tr>\n",
       "      <th>0</th>\n",
       "      <td>0</td>\n",
       "      <td>book</td>\n",
       "      <td>O</td>\n",
       "    </tr>\n",
       "    <tr>\n",
       "      <th>1</th>\n",
       "      <td>0</td>\n",
       "      <td>The Middle East</td>\n",
       "      <td>restaurant_name</td>\n",
       "    </tr>\n",
       "    <tr>\n",
       "      <th>2</th>\n",
       "      <td>0</td>\n",
       "      <td>restaurant</td>\n",
       "      <td>restaurant_type</td>\n",
       "    </tr>\n",
       "    <tr>\n",
       "      <th>3</th>\n",
       "      <td>0</td>\n",
       "      <td>in</td>\n",
       "      <td>O</td>\n",
       "    </tr>\n",
       "    <tr>\n",
       "      <th>4</th>\n",
       "      <td>0</td>\n",
       "      <td>IN</td>\n",
       "      <td>state</td>\n",
       "    </tr>\n",
       "  </tbody>\n",
       "</table>\n",
       "</div>"
      ],
      "text/plain": [
       "   sentence_index             word              tag\n",
       "0               0            book                 O\n",
       "1               0  The Middle East  restaurant_name\n",
       "2               0       restaurant  restaurant_type\n",
       "3               0              in                 O\n",
       "4               0               IN            state"
      ]
     },
     "execution_count": 132,
     "metadata": {},
     "output_type": "execute_result"
    }
   ],
   "source": [
    "train_path = './data/train/train_book_restaurant.csv'\n",
    "train_df = pd.read_csv(train_path)# Loading a csv file with headers \n",
    "train_df.head()"
   ]
  },
  {
   "cell_type": "markdown",
   "metadata": {},
   "source": [
    "### 4. Create a list of tuple to differentiate each sentence from each other sentence"
   ]
  },
  {
   "cell_type": "code",
   "execution_count": 252,
   "metadata": {},
   "outputs": [
    {
     "name": "stdout",
     "output_type": "stream",
     "text": [
      "[[('book ', 'O'), ('The Middle East', 'restaurant_name'), ('restaurant', 'restaurant_type'), (' in ', 'O'), ('IN', 'state'), (' for ', 'O'), ('noon', 'timeRange')]]\n"
     ]
    }
   ],
   "source": [
    "class SentenceGetter(object):\n",
    "    def __init__(self, dataset):\n",
    "        self.n_sent = 1\n",
    "        self.dataset = dataset\n",
    "        self.empty = False\n",
    "        agg_func = lambda s: [(w,t) for w, t in zip(s[\"word\"].values.tolist(),s[\"tag\"].values.tolist())]\n",
    "        self.grouped = self.dataset.groupby(\"sentence_index\").apply(agg_func)\n",
    "        self.sentences = [s for s in self.grouped]\n",
    "getter = SentenceGetter(train_df)\n",
    "sentences = getter.sentences\n",
    "# 1st sentence \n",
    "print(sentences[0:1])"
   ]
  },
  {
   "cell_type": "markdown",
   "metadata": {},
   "source": [
    "### 5. Maximum sentence sequence length"
   ]
  },
  {
   "cell_type": "code",
   "execution_count": 260,
   "metadata": {},
   "outputs": [
    {
     "name": "stdout",
     "output_type": "stream",
     "text": [
      "The maximum sentence sequence length: 13\n"
     ]
    }
   ],
   "source": [
    "maxlen = max([len(s) for s in sentences])\n",
    "print ('The maximum sentence sequence length:', maxlen)"
   ]
  },
  {
   "cell_type": "markdown",
   "metadata": {},
   "source": [
    "### 6. Checking how long the sentences:\n",
    "1. maximum size of the sentence is <b>13</b>.\n",
    "2. x-> axis denotes length of the sentence.\n",
    "3. y-> The total sentences with x axis length."
   ]
  },
  {
   "cell_type": "code",
   "execution_count": 263,
   "metadata": {},
   "outputs": [
    {
     "data": {
      "image/png": "[encoded data removed]",
      "text/plain": [
       "<Figure size 432x288 with 1 Axes>"
      ]
     },
     "metadata": {},
     "output_type": "display_data"
    }
   ],
   "source": [
    "# Check how long sentences are so that we can pad them\n",
    "plt.style.use(\"ggplot\")\n",
    "plt.hist([len(s) for s in sentences], bins=30)\n",
    "\n",
    "plt.xlabel('Length of sentences', fontsize=18)\n",
    "plt.ylabel('No of sentences', fontsize=16)\n",
    "plt.show()"
   ]
  },
  {
   "cell_type": "markdown",
   "metadata": {},
   "source": [
    "### 7. Getting unique list of words and tags from train_df dataframe"
   ]
  },
  {
   "cell_type": "code",
   "execution_count": 399,
   "metadata": {},
   "outputs": [
    {
     "name": "stdout",
     "output_type": "stream",
     "text": [
      "Total no of words: 3239\n",
      "Last word in word list: ENDPAD\n",
      "Total no of tags: 15\n",
      "['state', 'country', 'sort', 'facility', 'party_size_description', 'restaurant_type', 'poi', 'served_dish', 'city', 'party_size_number', 'restaurant_name', 'spatial_relation', 'cuisine', 'timeRange', 'O']\n"
     ]
    }
   ],
   "source": [
    "# Getting unique list of words\n",
    "\n",
    "# set() -> Removes duplicate elements\n",
    "words = list(set(train_df[\"word\"].values))\n",
    "# Adding ENDPAD string at the end of word list\n",
    "words.append(\"ENDPAD\")\n",
    "\n",
    "# Total no of words \n",
    "n_words = len(words)\n",
    "print(\"Total no of words:\",n_words)\n",
    "print(\"Last word in word list:\",words[n_words-1])\n",
    "\n",
    "#  Getting unique list of tags\n",
    "tags = list(set(train_df[\"tag\"].values))\n",
    "n_tags = len(tags)\n",
    "print(\"Total no of tags:\",n_tags)\n",
    "print(tags)\n",
    "if n_tags>maxlen:\n",
    "    maxlen = n_tags"
   ]
  },
  {
   "cell_type": "markdown",
   "metadata": {},
   "source": [
    "### 8. Converting words and tags to a dictionary key:value pairs.\n",
    "Here,\n",
    "1. key -> Its the word or tag\n",
    "2. value -> It is the index position of the word or the tag"
   ]
  },
  {
   "cell_type": "code",
   "execution_count": 400,
   "metadata": {},
   "outputs": [
    {
     "name": "stdout",
     "output_type": "stream",
     "text": [
      "Word to index: {'Conshohocken': 0, 'make me a reservation at ': 1, 'my great grandfather and I': 2, 'book any ': 3, 'West Richfield': 4, 'me, emily and gena': 5, 'jul. 4th': 6, 'Macao': 7, ' reserved.': 8, ' want to go to a ': 9, 'spanish': 10, 'Piper': 11, 'Belle Plaine': 12, 'ebony and yolanda': 13, 'Friday': 14, ' with the ': 15, 'Durant': 16, 'crepes': 17, 'Brusly Landing': 18, 'march the twenty-seventh': 19, 'Rockaway Park-Beach 116th': 20, 'eleven am': 21, ' away at ': 22, 'apple sauce': 23, ' and book seats for ': 24, 'book me ': 25, 'Blodgett': 26, ' at a  ': 27, 'wilda and jacklyn': 28, 'Find a reservation ': 29, 'I need a table at ': 30, 'Bangladesh': 31, 'Hungary': 32, ' late at ': 33, 'fish and chips': 34, ' would like to go to a ': 35, 'Can you get me seating at a ': 36, 'CO': 37, 'five': 38, ' located at ': 39, 'Lucerne Valley': 40, 'I want to make a reservation at the ': 41, 'me and my colleagues': 42, 'Get me a ': 43, 'Rustic inn': 44, 'June nineteenth': 45, 'near': 46, ' want to go ': 47, 'persian': 48, 'Kansas': 49, 'Childs Restaurants': 50, 'Viroqua': 51, 'Brunei': 52, ' people in ': 53, 'Tremont Av': 54, 'croquembouche': 55, 'tues.': 56, ' and want some ': 57, 'baeckeoffe': 58, 'Bruno': 59, 'hot chicken sandwich': 60, 'italian-american cuisine': 61, 'in 22 and a half weeks': 62, 'Can you get me seating for ': 63, 'Robert Lee': 64, 'Find and book me a ': 65, 'donut': 66, 'in seven months': 67, 'presskopf': 68, 'deloris, ester and petra alvarez': 69, 'Please make reservations for a ': 70, 'verdure': 71, 'Tullytown': 72, 'Winnie': 73, 'Get me a reservation for ': 74, 'Lesotho': 75, 'me, marva and barbara': 76, 'Sunset': 77, ' and are are in ': 78, 'Make dinner reservation for ': 79, 'On ': 80, ' of me at ': 81, 'Reserve a spot at ': 82, 'next week': 83, '  from ': 84, 'Dutchess Manor': 85, 'oysters rockefeller': 86, 'Book ': 87, 'Top Pot Doughnuts': 88, ' at the most ': 89, 'Andorra': 90, 'Lauderdale Lakes': 91, 'stracciatella': 92, 'sashimi': 93, 'Allentown': 94, 'me and my mom': 95, 'Falmouth': 96, \"I'm looking to get a seat at a \": 97, 'Oneonta': 98, 'Find a reservation for ': 99, 'Floating restaurant': 100, 'Avant': 101, ' reservation at a ': 102, 'Need a booking for ': 103, ' and book a table for ': 104, 'Sep. 8, 2033': 105, ', name of the restaurant is ': 106, 'Can you get me seating for a party of ': 107, 'Can you make a reservation for ': 108, 'Make me a reservation for a party of ': 109, '08:05': 110, 'Egypt': 111, 'me, naomi and elisabeth': 112, 'Jul. 27': 113, 'São Tomé and Príncipe': 114, 'Please find me a table at a place that serves ': 115, ' that has access to a ': 116, 'Shore Club': 117, 'Pricedale': 118, ' that has space for ': 119, 'Home Gardens': 120, 'jul. 19, 2029': 121, 'February 24th, 2039': 122, 'Niger': 123, ' for this ': 124, 'my sister and I': 125, 'tarte': 126, 'vicki and I': 127, ' food place in ': 128, '2 minutes from now': 129, 'Branford': 130, '09:58:27': 131, 'Find a table at a ': 132, 'Hackney': 133, ' want to eat somewhere ': 134, 'gay ramos, janice gonzales and I': 135, 'connie scott and madeline': 136, ' at any kind of ': 137, 'emma and karen johnson': 138, 'Greenland': 139, 'Find a place for me to eat in ': 140, 'Uzbekistan': 141, ' fr ': 142, 'Need a table at a ': 143, 'Shambaugh': 144, 'Thomas Hynes House': 145, 'next Spring': 146, 'Conehatta': 147, 'Georgia': 148, 'Av U': 149, 'marylou and I': 150, 'Hainesville': 151, 'Arkansas': 152, \"I'd like to eat at the \": 153, 'irish': 154, 'Decaturville': 155, 'christy, louise and alexandra': 156, 'book a spot at a ': 157, 'Brookwood': 158, \"your colleague's college\": 159, 'Choate': 160, 'Luquillo': 161, 'Find me a table for ': 162, 'Pidcoke': 163, 'SkyCity': 164, 'Apr. 16': 165, ' for a party of ': 166, ' to get some ': 167, 'I want to book a reservation ': 168, ' restaurant for ': 169, \"zero o'clock\": 170, 'Meers': 171, 'book a restautant in ': 172, 'Enid': 173, '  in ': 174, ' reservation for a party of ': 175, 'Missouri': 176, 'march the 20th': 177, 'my teens and I': 178, 'next spring': 179, 'Anderson': 180, 'me and my team': 181, 'salami': 182, '4/4/2036': 183, 'Southern Shores': 184, 'san jacinto day': 185, 'angelita, susan reed and ashlee watson': 186, ' booked on ': 187, 'please book a room in ': 188, 'CHAR No.4': 189, ' and ': 190, 'this Autumn': 191, 'Russia': 192, '01:48:35': 193, 'pansette': 194, 'me, edna and alyson': 195, ' that has room for ': 196, 'Laurelhurst Theater': 197, 'tortelloni': 198, ' during ': 199, 'food court': 200, 'my bf and I': 201, 'mar. 20th': 202, 'shawn, marguerite and della': 203, 'November 24, 2036': 204, ' to eat some ': 205, 'trottole': 206, 'puglia': 207, ' for  ': 208, 'Felicity': 209, 'me, violet and maude': 210, ' to get ': 211, ' from here at ': 212, ' away': 213, 'in ten months': 214, 'book a spot ': 215, 'my office': 216, 'I need to book an ': 217, 'United States': 218, 'Please get me a reservation at a ': 219, 'Wallsburg': 220, 'Lentil as Anything': 221, ' need a table booked at a ': 222, 'Venezuela': 223, 'February the second, 2018': 224, 'january third': 225, 'in 21 hours': 226, ' reservation for ': 227, 'Wagram': 228, ' from my hotel in ': 229, 'Black Cat Bar': 230, ' reservations at ': 231, 'Please get me seating at the ': 232, ' to a place in ': 233, '15 minutes': 234, 'Norfolk Island': 235, ' to be at ': 236, 'jerky': 237, ' on the ': 238, 'Rocksprings': 239, 'Heard Island and McDonald Islands': 240, 'rhoda adams, roxanne and I': 241, 'three hours from now': 242, 'Gleed': 243, 'Lets go to a ': 244, 'BOok a table for ': 245, 'Please make a reservation at ': 246, ' at ': 247, 'I want a table to seat ': 248, 'choucroute': 249, 'The Meatball Shop': 250, 'chicken fingers': 251, 'night': 252, 'Vanuatu': 253, 'truffade': 254, 'Tennyson': 255, 'tropézienne': 256, 'stuffed peppers': 257, 'Chile': 258, 'mezes': 259, 'Plandome Manor': 260, 'Delanson': 261, 'jul. 3, 2019': 262, 'Hitchcock': 263, 'my baby and I': 264, 'Book me seating at a ': 265, 'Book a table over the ': 266, 'Slick': 267, 'Helianthushof': 268, 'tamra davis, viola and dorothea': 269, ' in a place ': 270, '3': 271, 'Please book reservations at a ': 272, 'tourte': 273, 'Berowra Waters Inn': 274, \"I'd like to eat with a party of \": 275, 'El Salvador': 276, 'five and a half months from now': 277, ' anywhere in ': 278, 'Please book me a table at a ': 279, 'November the first, 2022': 280, 'Brokaw': 281, 'OH': 282, ' facility at ': 283, 'best rated': 284, \"their step sister's workplace\": 285, 'three': 286, 'Qatar': 287, 'City of Wakefield': 288, 'Lorain': 289, ' person in ': 290, 'Morocco': 291, ' time': 292, '0 am': 293, 'I want to check out a ': 294, 'book me a ': 295, 'one hour from now': 296, \"I'd like to book \": 297, 'Bolivia': 298, \"I'd like seats for \": 299, 'Coventry Lake': 300, 'Hillview': 301, 'Aruba': 302, 'frozen yogurt': 303, 'march sixth, 2038': 304, 'Bowling Green': 305, 'pizza': 306, 'Find a reservation for a party of ': 307, 'Guinea': 308, 'javanese': 309, \"one o'clock\": 310, 'Lofgreen': 311, 'Grenada': 312, 'Tajikistan': 313, 'Aug. 5': 314, 'Book me a reservation ': 315, ' food for ': 316, '14:41': 317, 'I would like reservations to a ': 318, ' of us want to eat at a ': 319, 'december 4th, 2019': 320, 'I need a reservation ': 321, 'in 13 weeks': 322, 'marjorie vasquez, edith and martina': 323, 'AK': 324, ' ?': 325, 'South Carolina': 326, 'potato salad': 327, ' reservation.': 328, 'Shopsins': 329, 'Hornersville': 330, 'eighteen': 331, ' and need a reservation at ': 332, 'Hubbell House': 333, ' called ': 334, 'bettye and lakeisha jimenez': 335, 'Blocher': 336, 'therese, clara and I': 337, ' place for ': 338, ' that will seat ': 339, 'ME': 340, 'marci, marylou and amelia': 341, 'Madagascar': 342, 'I want to book seats for ': 343, 'need a table somewhere in ': 344, 'Canal Fulton': 345, 'cannelloni': 346, 'food': 347, 'South Street Diner': 348, 'doughnut': 349, \"I'd like to have \": 350, 'Yakima': 351, 'Haiti': 352, ' in or ': 353, 'next August': 354, 'Taiwan': 355, 'august the twenty-third, 2025': 356, ' as me': 357, 'Book the ': 358, 'I need to book a table at ': 359, ' time ': 360, 'mindy and angelita': 361, 'PA': 362, 'Guadeloupe': 363, 'The Apple Pan': 364, \"I'd like to eat at \": 365, 'northern brazilian': 366, 'eunice thompson and elisa martin': 367, 'Take me to the ': 368, 'Locate the ': 369, '13:22:34': 370, 'Irma': 371, 'christian and susana': 372, 'my son and I': 373, ' and need a table for ': 374, 'I want to get reservations at a place ': 375, 'Keller': 376, 'Jul. 10th, 2028': 377, 'COVA': 378, '19:26': 379, 'same distant': 380, 'soupe': 381, 'Westernport': 382, ' people.': 383, 'Curacao': 384, ' members with ': 385, 'six am': 386, \" I'd like to go to a \": 387, 'pizzas': 388, 'I need a table in ': 389, 'David Carpenter House': 390, 'Dunbrody Country House Hotel': 391, 'twelve AM': 392, 'office': 393, 'tyrolean': 394, 'Clarke Cooke House': 395, 'frybread': 396, ' for some ': 397, 'Broadway-Lafayette St': 398, 'Verden': 399, 'ava and I': 400, 'I would like reservations made for ': 401, 'jan and I': 402, 'rajasthani': 403, 'my grandkid and I': 404, 'ten PM': 405, '04:45 pm': 406, 'Christina': 407, 'kirsten price, audra and I': 408, 'Kearney': 409, \"I'd like a reservation for \": 410, 'in 18 seconds': 411, 'jan. 24th': 412, 'Adelaide': 413, ', where can I get a reservation?': 414, 'Lavina': 415, 'Marlton Circle': 416, 'At ': 417, 'Jagual': 418, 'Fort Loudon': 419, 'Senegal': 420, 'Need to book a table ': 421, 'OR': 422, 'Bradford': 423, 'july 18th': 424, 'Find a table somewhere for ': 425, 'parking': 426, 'Please book me seating at the ': 427, ', where they serve ': 428, 'Yankee Doodle Coffee Shop': 429, 'Oct. the thirteenth': 430, 'Reserve a table for ': 431, 'in 11 weeks': 432, 'fondue': 433, 'Peru': 434, 'sixteen hours': 435, ' want to dine in ': 436, 'Belgium': 437, 'Temperance': 438, 'pasta': 439, 'Cochran': 440, 'Idaho': 441, 'Nov. fifteenth': 442, 'strolghino': 443, 'Guam': 444, 'Can you get me reservations for a ': 445, \"I'd like reservations for \": 446, 'valarie, mari and I': 447, 'Bushkill': 448, 'georgia and I': 449, ' please': 450, 'three pm': 451, 'chowder': 452, 'National Cash Register Building': 453, 'Lewisville': 454, 'my daughters and I': 455, 'Frisco City': 456, 'oct. the seventeenth': 457, 'joint restaurant': 458, 'gastropub': 459, 'café liégeois': 460, ' from my place in ': 461, 'Maison Parthenais-Perrault II': 462, 'wings': 463, '  people': 464, 'dumplings': 465, 'Sichuan Food': 466, 'me and katharine': 467, 'Irvine': 468, 'socca': 469, 'Need to book a restaurnt for a party of ': 470, 'I need reservations for a party of ': 471, 'Iowa': 472, 'New Hampshire': 473, \"I'd like a table in a \": 474, ' people who would like to eat at a ': 475, 'Watauga': 476, '9': 477, '8 pm': 478, ' that serves a ': 479, 'monique stewart, arlene and jami': 480, 'Raleigh Hills': 481, 'Book me a reservation for a ': 482, 'me and my momy': 483, ' which is ': 484, 'pearl and verna': 485, 'me and savannah': 486, 'Liechtenstein': 487, ' which has a ': 488, 'Azerbaijan': 489, 'Louisiana': 490, 'SC': 491, 'Jul. 13, 2036': 492, 'asian': 493, \"lincoln's birthday/lincoln's day\": 494, 'I want to find ': 495, 'The Octagon, Christchurch': 496, ' food about ': 497, ' facility to accommodate ': 498, 'meatball': 499, 'book a spot at an ': 500, 'I require a reservation for ': 501, 'Bermuda': 502, 'IN': 503, 'North Carolina': 504, 'cupcakes': 505, 'The Fort': 506, 'Old Glory': 507, 'Green Isle': 508, 'Tennessee Ridge': 509, 'me and bonnie': 510, \"five o'clock\": 511, 'Dominican Republic': 512, ' of a ': 513, 'Can I get a table for ': 514, 'Hilt': 515, 'Roscoff Restaurant': 516, 'in a year ': 517, 'Metropolitan Museum of Art': 518, 'Bow Mar': 519, 'The Cherry Street Tavern': 520, 'August the nineteenth': 521, 'my hostel': 522, 'Columbus Junction': 523, 'West Whittier': 524, 'Louisiana Fried Chicken': 525, 'Lets get a table for ': 526, 'Woodcliff Lake': 527, \"I'm looking for the \": 528, '00:32 am': 529, 'Santa Claus': 530, 'popular': 531, 'northeastern brazilian': 532, 'our secondary residence': 533, 'Jacob Wirth Restaurant': 534, ' restaurnt in ': 535, 'gougère': 536, 'Nuts on Clark': 537, 'Make a reservation in a ': 538, 'ten am': 539, 'Needmore': 540, 'Jan. 22nd': 541, 'tatar': 542, 'Bonaire': 543, \"I'd like to reserve a table at a \": 544, 'Tracyton': 545, 'Lawrence St': 546, ' need a reservation for a ': 547, 'Where is ': 548, ' which offers ': 549, 'Montserrat': 550, 'ID': 551, ' people please': 552, 'courtney and ruby': 553, ', could you help?': 554, 'Leonville': 555, 'Blaine Hill': 556, 'meatballs': 557, \"I'm looking to book a reservation in \": 558, 'Ledoux': 559, 'MD': 560, 'Togo': 561, 'Can you book reservations for ': 562, 'I need to reserve a table for ': 563, 'my nephew and I': 564, 'Please get seating at ': 565, 'their house': 566, 'Lets eat at ': 567, 'in 10 years': 568, 'Statham': 569, 'annette, darlene and barbara james': 570, 'Turkmenistan': 571, 'spring rolls': 572, 'Slippery Noodle Inn': 573, 'krista, yolanda and I': 574, ' and need reservations.': 575, 'Spaghetti Warehouse': 576, 'Halsey St': 577, 'my colleagues and I': 578, 'croissant': 579, 'Bouvet Island': 580, 'Jacksboro': 581, 'jessie, dale wright and lupe': 582, 'Myanmar': 583, 'Belhaven': 584, 'me and angeline': 585, 'Cortelyou Rd': 586, 'I need a party of ': 587, '2': 588, 'catalina, delores and brandie mendoza': 589, 'New York': 590, 'joni, wilda sanders and I': 591, 'fern and I': 592, 'Fashion Café': 593, 'The Wolseley': 594, 'Kansas Day': 595, 'table for ': 596, 'tarte tatin': 597, 'Apr.': 598, 'Fairview': 599, 'Book reservation in ': 600, 'kristine, alisha and florine': 601, 'Veyo': 602, 'Moldova': 603, '2 months from now': 604, 'ankimo': 605, 'april the 8th': 606, 'District Of Columbia': 607, 'Ludden': 608, 'New Mexico': 609, 'Lets go ': 610, 'internet': 611, 'mar. 8, 2020': 612, 'Beaman': 613, 'Jenkins': 614, 'waffles': 615, ' future.': 616, ' table for ': 617, ' that can serve a party of ': 618, ' provider ': 619, \"I'd like to book a table at \": 620, 'Upper Marlboro': 621, 'Grant Av': 622, ' a table at a ': 623, 'Benkelman': 624, 'our college': 625, 'Cherwell Boathouse': 626, ' from my ': 627, 'Alaska Day': 628, 'bennington battle day': 629, 'indian': 630, 'Zapata': 631, 'sherri and I': 632, 'in thirty three days': 633, ' at a place in ': 634, 'Rocky Mound': 635, ' need reservations at ': 636, 'Roads End': 637, ' members in ': 638, 'Loogootee': 639, 'five pm': 640, 'Pitcairn Islands': 641, 'midday': 642, 'Jemez Springs': 643, \"robin's hotel\": 644, 'Johnson': 645, 'Portland Mills': 646, 'Fort Gates': 647, 'Kenya': 648, 'The Electric Banana': 649, ' for a cuisine ': 650, ' friends to the ': 651, 'saucisse': 652, 'me, leanne and tami': 653, '8 seconds from now': 654, ' members ': 655, ' person at a ': 656, 'cafe': 657, \" I'd like to go to \": 658, 'Oman': 659, 'last december': 660, 'hillary, dina chavez and alexis': 661, 'Rainforest Cafe': 662, 'Week-end': 663, 'Earls Court': 664, ' people': 665, \"my daughters's work location\": 666, 'Book me a reservation for an ': 667, 'Last Exit on Brooklyn': 668, 'hannah lewis and chelsea': 669, 'four pm': 670, 'Moon Run': 671, 'Book reservations at a restaurant in ': 672, \"I'd like to eat in \": 673, 'Kentucky': 674, \"I'd like to reserve a table in \": 675, ' at a ': 676, 'Birch Run': 677, 'Raytown': 678, 'jeanne and charlotte': 679, ' and want to eat somwhere ': 680, 'Guenther House': 681, 'Madison Park': 682, ' and we want to go to a ': 683, 'Wisconsin': 684, 'Make reservations at a ': 685, ' for the city of ': 686, 'De Berry': 687, 'Cook Islands': 688, 'in 5 years': 689, 'Book a table at any ': 690, '11/1/2033': 691, 'book me a reservation at ': 692, 'book a spot for ': 693, 'Harveys': 694, 'The Clink': 695, ' trip for ': 696, ' by ': 697, 'steak sauce': 698, 'Ware Shoals': 699, '1': 700, ' somewhere ': 701, ' people to a ': 702, 'Milladore': 703, 'Slovakia': 704, ' side ': 705, 'Jansen': 706, 'pizzeria': 707, 'Indiana': 708, 'reserve a table for ': 709, 'Shamrock': 710, 'I need a place that serves ': 711, 'Ad Hoc': 712, 'six PM': 713, 'connie, earline and rose': 714, 'feb. the 11th, 2032': 715, 'rita, antoinette and I': 716, 'U.S. Virgin Islands': 717, '12 AM': 718, 'Glennie': 719, 'kathleen, brianna and I': 720, 'I want to make a reservation for a group of ': 721, \"I'm looking to book a spot at a \": 722, 'brigitte taylor, katelyn and natalie': 723, 'Get me a table for ': 724, 'madge and tami': 725, 'book a table at the ': 726, 'Need table for ': 727, 'April the twenty-eighth, 2018': 728, 'January the twentieth': 729, 'Hurffville': 730, 'Elberta': 731, 'wontons': 732, 'i need a table at a ': 733, 'Lincoln Beach': 734, 'Cyprus': 735, 'Gus Stevens Seafood Restaurant & Buccaneer Lounge': 736, '1 hour from now': 737, 'eight pm': 738, 'apr. 2, 2021': 739, 'Germany': 740, 'three hundred thirty three days from now': 741, 'Port Wentworth': 742, 'kirsten morris and I': 743, 'Mongolia': 744, ' people at ': 745, 'delicatessen': 746, 'two pm': 747, 'MS': 748, \" people to a place that's \": 749, 'Municipal Borough of Ealing': 750, ' food that has room for ': 751, 'last Oct.': 752, 'Luxor': 753, \"all souls' day\": 754, 'in town': 755, 'Palestine': 756, 'Dallesport': 757, 'Seafood restaurant': 758, 'Tartinery Restaurant': 759, ' deli': 760, 'The Kitchin': 761, 'Dinner by Heston Blumenthal': 762, 'party of ': 763, ' during our ': 764, 'South Mills': 765, ' of us to a ': 766, '  at ': 767, 'McMurray': 768, 'Asiate': 769, 'thousand island dressing': 770, 'The Triple Door': 771, 'elinor, crystal turner and nita': 772, 'meze': 773, 'cretan': 774, 'scampi': 775, 'VT': 776, 'Black Horse Tavern': 777, 'UT': 778, 'Book reservations at ': 779, \"I'd like to eat at a \": 780, ' of us.': 781, 'ten': 782, 'within walking distance': 783, 'Pelican Bay': 784, '16 hours ten minutes and one second from now': 785, '21:05:17': 786, 'The Middle East': 787, 'Gober': 788, 'lobster newberg': 789, 'Pelahatchie': 790, 'Book a party of ': 791, 'Bloom City': 792, \"your daughter's campus\": 793, \"I'd like to go to the \": 794, 'Rhodes Twenty Four': 795, 'Make a reservation for ': 796, 'Union Auto Company': 797, 'Rockport': 798, 'february 13': 799, 'casey chavez, lucinda and karina': 800, '20 hours from now': 801, ' place with ': 802, 'The Fat Duck': 803, 'Prospect of Whitby': 804, 'september second': 805, 'cornelia and bettie': 806, 'White Heath': 807, 'Oak Ridge': 808, 'Sparks': 809, 'Palau': 810, 'Everson': 811, '1 second from now': 812, 'som tam': 813, 'Northcote': 814, 'Juliff': 815, '07:07': 816, 'Book me a table for ': 817, '  in the state of ': 818, 'Cambodia': 819, ' for me in ': 820, 'Make me a reservation at ': 821, ' as the ': 822, 'Coalton': 823, ' will be in ': 824, 'iris, ina and heidi': 825, '0 AM': 826, 'in 1 year': 827, 'The Big Chill Cafe': 828, '135th St': 829, 'Need a table at ': 830, ' that is also ': 831, 'Reservea  table for ': 832, 'Owings Mills': 833, 'Glassy Junction': 834, 'downtown': 835, 'czech': 836, 'Union City': 837, 'Putnam Hall': 838, 'Wallington': 839, ' and craving ': 840, 'me and my grandparents': 841, 'Iowa City': 842, 'ouzeri': 843, ' people total.': 844, 'Diwali': 845, 'chicken french': 846, 'The Cheese Course': 847, 'I would like to book the ': 848, 'lacy and I': 849, 'Saint Pierre and Miquelon': 850, \"my step daughter's position\": 851, 'Make me a reservation for ': 852, 'sunrise': 853, 'marche': 854, 'book a table for ': 855, 'nancy, elma ruiz and molly': 856, 'august seventeenth': 857, 'beef manhattan': 858, 'Book seating for ': 859, 'ribs': 860, 'sardinian': 861, 'Gilluly': 862, 'Please book me a ': 863, 'Soldier Pond': 864, 'Finland': 865, 'Muscle Shoals': 866, 'Goshenville': 867, 'now': 868, ' anywhere ': 869, 'The Brass Rail': 870, '  at the ': 871, 'Can you find me reservations for this ': 872, 'Connecticut': 873, 'Darnell': 874, ' from now at somewhere ': 875, 'May the twenty-third': 876, '22 minutes from now': 877, 'Donnelly': 878, 'january 25, 2034': 879, 'Canteen Lunch in the Alley': 880, 'Half Moon': 881, '22 weeks from now': 882, '?': 883, 'elsa and I': 884, 'Cafe Rouge': 885, 'France': 886, 'varenyky': 887, '8 AM': 888, 'I would like to find a ': 889, 'trattoria': 890, ' people needing a ': 891, 'Hutchinson': 892, 'Blacksville': 893, 'my brother in law and I': 894, 'Dillard House': 895, 'Yogurt Mountain': 896, '4/17/2033': 897, 'far breton': 898, 'Would like to book a ': 899, 'me, belinda and dena': 900, ' want to dine at a ': 901, 'in 37 weeks': 902, ',': 903, 'may the twenty-seventh': 904, 'this week': 905, '. in ': 906, 'The Firehouse Restaurant': 907, 'Tribeca Grill': 908, 'Somalia': 909, 'Three Points': 910, ' named ': 911, 'Nebraska': 912, ' with ': 913, 'Datil': 914, 'Book a party for ': 915, 'Timbo': 916, 'Oklahoma': 917, ' to the ': 918, 'AR': 919, 'State Road': 920, 'I want to find an ': 921, 'greek': 922, '  with ': 923, ' away in ': 924, 'umbrian': 925, 'me and my baby': 926, '1 PM': 927, ' for the ': 928, 'Ashmore': 929, 'reuben sandwich': 930, 'Anything': 931, 'Saint Kitts and Nevis': 932, 'Palco': 933, '.': 934, \"twenty o'clock\": 935, 'shawna davis, michelle and lizzie': 936, 'Wadsworth': 937, 'one year from now': 938, 'veneto': 939, 'bessie, antonia and lisa': 940, 'next Jun.': 941, '11:16:07': 942, 'Ecru': 943, '06:13 AM': 944, 'February the 10th': 945, \"Thomas Jefferson's Birthday\": 946, '10:41:51 am': 947, 'April 25, 2026': 948, ' I need a reservation for ': 949, 'area within the same area': 950, 'souvlaki': 951, 'East Uniontown': 952, 'Rose Bud': 953, 'Turks and Caicos Islands': 954, 'bengali': 955, ' booking for ': 956, \"I'd like to reserve a spot at a \": 957, 'my grandfather and I': 958, 'eight': 959, 'Malaysia': 960, 'donuts': 961, 'Grantsburg': 962, 'I want an ': 963, ' place at ': 964, 'The Commons Restaurant': 965, 'Pleasant City': 966, ' and order ': 967, 'book a table in ': 968, ', prefereably ': 969, \"20 o'clock\": 970, 'russian': 971, ' and can accommodate a party of ': 972, 'american chinese cuisine': 973, 'Federated States Of Micronesia': 974, 'me, clarice and debbie': 975, 'The K Club': 976, 'Districts of Sweden': 977, 'Please make reservations in ': 978, ' people to eat at ': 979, 'potée': 980, 'in 345 days': 981, 'six months from now': 982, 'book me a reservation at a ': 983, 'June the thirteenth, 2033': 984, 'churrascaria': 985, 'January sixteenth, 2024': 986, 'Tuvalu': 987, 'ava gonzales, raquel brown and I': 988, 'sep. first': 989, 'The Hand & Flowers': 990, 'indoor': 991, \"fourteen o'clock\": 992, 'eleven': 993, 'Rixford': 994, 'Vatican': 995, 'lois, effie price and I': 996, 'Hesston': 997, 'Pioneer Day': 998, 'I need a table at a ': 999, 'me and my sister': 1000, 'Grecian Coffee House': 1001, 'afternoon': 1002, 'sofia phillips and winifred walker': 1003, 'ranch dressing': 1004, 'acquacotta': 1005, 'Plain': 1006, 'KS': 1007, 'lunch': 1008, \"thirteen o'clock\": 1009, 'Book me a table at the ': 1010, 'Newton Falls': 1011, 'Book a table in ': 1012, 'Valley Mills': 1013, 'Estonia': 1014, '21 weeks from now': 1015, 'me and my husband': 1016, 'Chips': 1017, 'Pinecliffe': 1018, 'TX': 1019, ', for ': 1020, 'my colleague and I': 1021, 'Kenova': 1022, 'T-Rex': 1023, 'alma, deana and olga': 1024, 'Need to book a ': 1025, 'I need to go to a ': 1026, 'tuna casserole': 1027, '   for ': 1028, '8th St': 1029, 'Stonewood': 1030, 'Laos': 1031, 'Red Lick': 1032, '12 am': 1033, ' person at an ': 1034, 'TKK Fried Chicken': 1035, ' at any ': 1036, \"I'm looking to book a table at a \": 1037, 'Gasport': 1038, 'halloween': 1039, 'Beech Creek': 1040, 'Make reservations for me at a ': 1041, 'Suriname': 1042, 'MI': 1043, 'natasha, bettye and kimberley': 1044, 'Woodston': 1045, \"I would like reservations for Giodi's in \": 1046, ' food on ': 1047, 'Escondida': 1048, ' Book a ': 1049, \"D'Iberville\": 1050, 'minestrone': 1051, \"seventeen o'clock\": 1052, 'Utah': 1053, 'Please book reservations for ': 1054, 'I want to book a restaurantin ': 1055, 'Make me a reservation at a ': 1056, 'me, rachelle and wilda': 1057, ' want to go to ': 1058, 'Equatorial Guinea': 1059, ' with a ': 1060, '10 AM': 1061, 'fish chips': 1062, 'me, bobbie and colette': 1063, 'SD': 1064, 'elba and corina': 1065, 'in a week': 1066, 'four AM': 1067, 'Book a table at the ': 1068, ' there': 1069, 'Malawi': 1070, ' at a local ': 1071, 'eggo': 1072, 'clam cake': 1073, 'The Original House of Pies': 1074, 'Stehekin': 1075, 'NH': 1076, 'United Arab Emirates': 1077, 'Lambertville': 1078, 'Please book seating for ': 1079, \"I'm looking for a \": 1080, ', preferably a ': 1081, '7/16/2027': 1082, 'trentino': 1083, 'this month': 1084, 'paella': 1085, 'Book me a reservation at a ': 1086, 'Lets go to the ': 1087, 'Maid-Rite Sandwich Shop': 1088, ' At ': 1089, 'march 6': 1090, \"I'm looking to reserve a table at a \": 1091, 'in 19 hours and 1 second': 1092, '11/23/2031': 1093, ' at the nearest ': 1094, 'moroccan': 1095, 'twelve PM': 1096, 'Åland': 1097, 'Herkimer': 1098, 'Get me a table at a ': 1099, 'Laneville': 1100, 'pastelaria': 1101, ' or ': 1102, '. I need it for ': 1103, 'osteria': 1104, 'I want to go to an ': 1105, 'me and therese': 1106, 'Cedarburg': 1107, ' go to the ': 1108, 'zero am': 1109, 'Pelham Bay Park': 1110, 'green bean casserole': 1111, '00:37 PM': 1112, 'Exell': 1113, 'East Greenville': 1114, ' that searves ': 1115, 'Space Aliens Grill & Bar': 1116, 'I want to eat somewhere that is ': 1117, 'Skillman': 1118, 'nov. 7': 1119, 'Sugarville': 1120, 'Please book me a reservation ': 1121, 'The Coffee Bean & Tea Leaf': 1122, 'Seychelles': 1123, 'on ': 1124, 'this fall': 1125, 'Washington, D.C. Jewish Community Center': 1126, '16 hours from now': 1127, 'I want a reservation for ': 1128, \"I'd like to eat \": 1129, 'Smith-9th St': 1130, 'Khedive Palace': 1131, 'find a ': 1132, ' a safe ': 1133, 'me and my parents': 1134, 'seven weeks from now': 1135, 'corinne, tisha and I': 1136, 'book a table in the ': 1137, 'Ringlestone Inn': 1138, ' slated ': 1139, 'within the same area': 1140, 'i need to book a table for ': 1141, 'Mar. 22nd, 2020': 1142, 'RingSide Steakhouse': 1143, 'Please make me reservations somewhere for ': 1144, 'brazilian': 1145, 'I need a table right ': 1146, 'Fleetwood': 1147, 'candace phillips, debbie and sondra': 1148, 'February 11, 2033': 1149, 'two hundred ninety six days from now': 1150, 'desserts': 1151, \"geraldine's house\": 1152, 'close-by': 1153, ' that serves ': 1154, 'Riverview': 1155, \"shawn's work\": 1156, '17:38:04': 1157, 'august fourth': 1158, 'I need a reservation for a party of ': 1159, 'Burundi': 1160, ', I need reservations for ': 1161, '5 pm': 1162, \"I'd like to book a table at a \": 1163, 'me, tiffany and sondra': 1164, 'The Nosh Bar': 1165, 'alta, deborah and bertha': 1166, 'ammonia cookie': 1167, 'Culdesac': 1168, 'in eleven hours': 1169, '.\\r\\n': 1170, ' atmosphere': 1171, 'DC': 1172, '20:38': 1173, ' to book a ': 1174, 'Fargo': 1175, 'I would like a table for ': 1176, 'Ucolo': 1177, '02:53': 1178, 'cuban': 1179, ' time.': 1180, '  to accommodate ': 1181, 'in twenty three hours and 1 second': 1182, ' and need to book a table at a ': 1183, \"St. Patrick's Day\": 1184, 'me, cherry and tracie': 1185, '141 days from now': 1186, 'PM Park, Clear Lake, Iowa': 1187, 'Book a restasurant in ': 1188, 'your position': 1189, 'The Crown at Whitebrook': 1190, 'my work location': 1191, 'capicollo': 1192, 'Oct. 17': 1193, \"yolanda's apartment\": 1194, \"I'd like to get \": 1195, ' cuisine.': 1196, 'Angola': 1197, ' reservation at ': 1198, 'book in ': 1199, 'Bonaparte': 1200, 'i need to book a ': 1201, 'caucasian': 1202, 'Red Crown Tourist Court': 1203, 'vickie reed, melody and I': 1204, 'rita and brenda': 1205, \"I'd like to get reservations at a \": 1206, 'Arizona': 1207, ' I want to reserve a spot for ': 1208, 'bougatsa': 1209, 'Book a table at an ': 1210, 'Tokelau': 1211, 'Armenia': 1212, 'two': 1213, '3 pm': 1214, 'RI': 1215, ' members for ': 1216, 'Savoy Hotel and Grill': 1217, \"four o'clock\": 1218, 'aug. fifth': 1219, 'Cohocton': 1220, 'Confederate Memorial Day': 1221, '10': 1222, 'West Yellowstone': 1223, ', party for three with ': 1224, 'Sandstone': 1225, 'not distant': 1226, ' from here for ': 1227, 'The Rosebud': 1228, 'middle eastern': 1229, ' with a party of ': 1230, 'michele, diann and pam': 1231, 'Book me a table at a ': 1232, '5/20/2028': 1233, ' that will serve a ': 1234, 'my father in law and I': 1235, 'me, matilda and deana': 1236, 'book me a reservation at an ': 1237, 'argentinian': 1238, 'me, angela and mercedes': 1239, 'book spot at a ': 1240, ' people about ': 1241, 'Adrian': 1242, '7': 1243, ' for a group of ': 1244, '21:49': 1245, 'seven years from now': 1246, ' place for a party of ': 1247, 'Can you place a reservation for me at ': 1248, 'Osage City': 1249, ' that will take ': 1250, 'Birch River': 1251, 'Barbados': 1252, '  at a ': 1253, 'I need a table at somewhere ': 1254, 'creole': 1255, 'mineiro': 1256, ' reserve a table for ': 1257, 'Ewen': 1258, 'Pennsylvania': 1259, 'October 16, 2038': 1260, 'stacy watson and adriana': 1261, ' and get a table for ': 1262, 'Arp': 1263, '03:44 am': 1264, 'Mulvane': 1265, 'burger': 1266, 'I want eat at the ': 1267, ' cuisine ': 1268, 'steakhouse': 1269, 'june 27, 2026': 1270, 'maple bacon donut': 1271, 'chicken fried bacon': 1272, 'in 15 seconds': 1273, 'Uncommon Grounds Coffeehouse': 1274, 'please book ': 1275, 'brunch': 1276, 'Netherlands': 1277, 'Book reservation for ': 1278, 'Holtville': 1279, 'Book me a reestaurant that is ': 1280, 'Kazakhstan': 1281, 'bakery': 1282, 'Trinidad and Tobago': 1283, 'in twenty minutes': 1284, \"I'd like to get reservations for \": 1285, 'my gf and I': 1286, 'Need book a ': 1287, 'nine': 1288, 'Bedford Park Blvd-Lehman College': 1289, 'Find me a table for a ': 1290, 'AMelia Court House': 1291, 'ethiopian': 1292, 'pickled cucumber': 1293, 'wilma, gay and I': 1294, 'south tyrolean': 1295, 'close': 1296, \"I'd like to take a party of \": 1297, 'doris and I': 1298, 'me, violet and dianne': 1299, 'melva and heidi': 1300, 'Jun. the 11th, 2034': 1301, 'renee sanders, marlene and jewel': 1302, 'Reserve me seating ': 1303, 'padangnese': 1304, 'Book a spot for ': 1305, 'Cawker City': 1306, 'me and my half sister': 1307, 'six': 1308, 'I want to reserve a ': 1309, 'Can you book a table for ': 1310, 'Crooked House of Windsor': 1311, 'Midday': 1312, 'southeastern': 1313, 'California': 1314, 'testaroli': 1315, 'Loveless Cafe': 1316, 'Iron Gates': 1317, 'Holy Saturday': 1318, 'ice cream cake': 1319, 'My group of ': 1320, 'in 6 years': 1321, ' at a new ': 1322, 'Hagaman': 1323, 'want to eat at ': 1324, 'northeastern': 1325, 'in eight hours': 1326, 'Bowlegs': 1327, 'Oct. 24, 2035': 1328, 'Switzerland': 1329, 'in ': 1330, 'Hardesty': 1331, 'me and my boss': 1332, ' I want to eat at ': 1333, \"I'd like to eat a \": 1334, 'The Vortex Bar & Grill': 1335, 'me, jenny and antoinette': 1336, 'darlene, tessa and maxine': 1337, 'Strabane': 1338, 'Salina': 1339, 'rosalie stewart and evelyn': 1340, 'fast food': 1341, 'diner': 1342, \"I'd like to visit a \": 1343, 'Woodsfield': 1344, '. I need a table for ': 1345, ' and eat at a table for ': 1346, 'reva and bernadine': 1347, 'faraway': 1348, 'book a spot in ': 1349, 'bar restaurant': 1350, \"I'd like a reservation at a place in \": 1351, 'this autumn': 1352, 'Osierfield': 1353, 'Inwood - 207th St': 1354, 'Grab a table at a ': 1355, 'neva, alice and maggie parker': 1356, 'New Caledonia': 1357, 'Pakistan': 1358, 'Edgemoor': 1359, 'cheese fries': 1360, 'my friends and I': 1361, 'twelve am': 1362, 'Rose Creek': 1363, 'find an ': 1364, 'Hotel Arctic': 1365, 'german chocolate cake': 1366, 'jun. 13th': 1367, 'Keeling Islands': 1368, 'The Cubby Bear': 1369, 'Tunisia': 1370, 'Restaurants in Washington, D.C.': 1371, 'march 6, 2034': 1372, 'Hutchings': 1373, 'my ex husband and I': 1374, 'coffeehouse': 1375, 'MO': 1376, 'Urbanette': 1377, 'my niece and I': 1378, 'I want to make a reservation at a ': 1379, 'Henlopen Acres': 1380, 'Romania': 1381, ' food at a ': 1382, ' that servec ': 1383, ' to a ': 1384, 'book a spot at ': 1385, 'Zambia': 1386, 'bûche de noël': 1387, '19:44:58': 1388, 'I need a dinner reservation ': 1389, '.  ': 1390, 'Vermont': 1391, 'Saudi Arabia': 1392, 'Need a resevation for a ': 1393, 'Guinea-Bissau': 1394, 'Hawaii': 1395, 'goiano': 1396, 'Can I get some ': 1397, ' rating': 1398, 'four PM': 1399, 'gnocchi': 1400, 'I want to eat at a ': 1401, 'Nigeria': 1402, 'vichyssoise': 1403, 'Book seating at a ': 1404, 'Bonita': 1405, ' in a ': 1406, 'ginestrata': 1407, ' members': 1408, 'White Creek': 1409, 'Thailand': 1410, 'my grandson and I': 1411, 'Jun. the 7th, 2022': 1412, 'Turkey': 1413, 'Sunnybrook': 1414, 'Grandview Heights': 1415, 'home': 1416, 'Robinette': 1417, 'Montreal Pool Room': 1418, 'Mayotte': 1419, 'find and book a table in ': 1420, 'Naytahwaush': 1421, ' want to eat ': 1422, 'shari and I': 1423, 'july 16th, 2022': 1424, ' that is the ': 1425, 'September the 13th, 2037': 1426, 'Flossmoor': 1427, \"I'd like a table at a \": 1428, ' from a ': 1429, 'helen and miriam': 1430, 'my father and I': 1431, 'Cold Spring Tavern': 1432, 'Niue': 1433, 'me and my ex husband': 1434, 'Searsport': 1435, 'six hours from now': 1436, 'Let me get reservations for a party of ': 1437, 'Micronesia': 1438, 'Bahamas': 1439, 'Long Bridge': 1440, '10:47:15 pm': 1441, 'Reserve a table at a ': 1442, '23': 1443, 'Tonight': 1444, '3/21/2018': 1445, '43 days from now': 1446, ' in the ': 1447, 'Serbia and Montenegro': 1448, 'my step son and I': 1449, 'Kellnersville': 1450, 'NM': 1451, 'Sri Lanka': 1452, 'Newtown': 1453, 'Locate a ': 1454, 'I would like to book an ': 1455, 'Olton': 1456, 'Dec. 13': 1457, ' room with ': 1458, ' that also serves ': 1459, 'in twelve hours': 1460, ' in the country of ': 1461, 'at ': 1462, 'balinese': 1463, 'sunset': 1464, 'Alaska': 1465, 'Clinchco': 1466, 'get me a reservation at a ': 1467, 'Alderwood Manor': 1468, 'Rwanda': 1469, 'We want to eat at a ': 1470, '  that is ': 1471, ' dish in ': 1472, 'AMerican Samoa': 1473, 'me, maggie and ellen': 1474, '3 am': 1475, 'Find a table ': 1476, 'Make me a reservation ': 1477, 'Canarsie - Rockaway Parkway': 1478, 'Ottumwa': 1479, 'Uncas': 1480, 'Book reservation at a ': 1481, 'me and my roommate': 1482, 'Monty’s Hotel, Secunderabad': 1483, 'july the tenth': 1484, 'MP': 1485, 'fast food joint': 1486, 'in twenty hours': 1487, '6/1/2027': 1488, ' in ': 1489, 'I want to go to a ': 1490, 'Make me a reservation in ': 1491, 'selma and molly': 1492, 'book a table with ': 1493, 'NJ': 1494, 'I need a reservation at ': 1495, 'Schedule the ': 1496, ' of us': 1497, '79 days and a half from now': 1498, 'Please book me a table for ': 1499, ' people for ': 1500, ' serves ': 1501, 'Sale Creek': 1502, 'Thompsontown': 1503, 'creamed eggs on toast': 1504, 'Book a table in a ': 1505, 'Ward Springs': 1506, 'feb. the twenty-fourth': 1507, 'Hallam': 1508, 'Exira': 1509, 'Liberia': 1510, '138th St': 1511, 'Meadow Vale': 1512, 'Fullerville': 1513, 'Texas': 1514, ' .': 1515, 'South Korea': 1516, 'paté': 1517, 'Le Roy': 1518, \"I'm hoping to find a table for \": 1519, 'in four weeks': 1520, 'Find me a nice ': 1521, '11 pm': 1522, 'my friend and I': 1523, 'Lodi': 1524, 'Cazenovia': 1525, 'MN': 1526, \"my mum's hotel\": 1527, 'Book a reservation for a party of ': 1528, 'La Madera': 1529, 'me and my step brother': 1530, 'Paraguay': 1531, 'Steinway St': 1532, 'Dec. 13, 2018': 1533, 'West Virginia': 1534, 'I want to eat ': 1535, ', I will need reservations at a ': 1536, 'Find a table for ': 1537, 'Apr. 7th, 2024': 1538, 'Ariston Cafe': 1539, 'Creola': 1540, 'jan. the third': 1541, 'Limerick': 1542, 'January 15th, 2030': 1543, 'Ashland': 1544, 'cordon bleu': 1545, 'Graf': 1546, 'reserve a spotat the ': 1547, 'Gwynedd Valley': 1548, ' cuisine\\r\\n': 1549, 'Myrtle Av': 1550, ' during my ': 1551, 'I need a reservation, looking for a place with ': 1552, 'Hills and Dales': 1553, 'eleven months from now': 1554, 'Find a reservation at a ': 1555, ' want to food at a ': 1556, 'Brooklyn Bridge-City Hall': 1557, 'chasity ruiz and mary': 1558, 'North AMityville': 1559, 'Wylliesburg': 1560, 'slinger': 1561, 'me, isabella and carly': 1562, 'I want a ': 1563, 'Take me a ': 1564, 'Astor Place': 1565, 'Fisk Av-69th St': 1566, 'Bienville': 1567, 'marina and I': 1568, 'next year': 1569, 'Please make a ': 1570, ' food in ': 1571, 'Gurabo': 1572, 'milagros and I': 1573, 'Give me a ': 1574, '04:36:28': 1575, 'rosie and I': 1576, ' time in ': 1577, 'Vanlue': 1578, 'Please book a room to accommodate ': 1579, ' to eat at ': 1580, 'festoni': 1581, 'Book a table for ': 1582, 'Kamrar': 1583, 'Want a table at ': 1584, ' that has a ': 1585, 'Tennessee': 1586, 'vezione verro': 1587, 'I need reservations at a ': 1588, 'Riddlesburg': 1589, 'Independence Corner': 1590, 'I need a reservation for a ': 1591, 'indonesian': 1592, 'Jan. 16, 2034': 1593, \"I'd like to eat at an \": 1594, 'London Borough': 1595, 'blini': 1596, ' of the ': 1597, 'Union Square Cafe': 1598, 'in 24 weeks': 1599, 'Sealy': 1600, 'Roseville': 1601, 'Please make reservations for ': 1602, ' people ': 1603, 'I need to take ': 1604, 'Book reservations for ': 1605, 'Algeria': 1606, 'Please reserve a table at the ': 1607, 'distant': 1608, 'Benin': 1609, 'french': 1610, 'hot dog': 1611, 'Sep. the 10th': 1612, 'London Borough of Ealing': 1613, 'AL': 1614, 'claudine, kelsey and shelley': 1615, 'south american': 1616, 'Trout Creek': 1617, \"I'm looking to book a table at a place in \": 1618, 'goan': 1619, 'one second from now': 1620, 'lidia, latasha and diann': 1621, \"i'd like reservations for \": 1622, 'ten pm': 1623, 'Shingleton': 1624, 'me, cassie and lesley': 1625, \"I'd like a table at the \": 1626, ' place': 1627, ' using the ': 1628, \"tia's house\": 1629, ', for me only, ': 1630, 'Cypress Av': 1631, '1 minute from now': 1632, ' facility for ': 1633, 'GU': 1634, 'milk toast': 1635, ' table at the ': 1636, 'mashed pumpkin': 1637, 'aioli': 1638, 'me and my brother': 1639, 'I want to book an ': 1640, 'ND': 1641, 'pepperoni': 1642, ' om ': 1643, 'molecular gastronomy': 1644, 'manadonese': 1645, 'I need to book a table for ': 1646, ' friends': 1647, 'Want to eat at ': 1648, 'my cousin and I': 1649, 'Jul. 6, 2040': 1650, '72nd St': 1651, 'Hecker': 1652, 'nine PM': 1653, 'Make a booking for the ': 1654, 'Need a booking for a party of ': 1655, 'me and imelda': 1656, 'Puerto Rico': 1657, 'august 3, 2024': 1658, 'Antietam': 1659, 'Steele City': 1660, ' guests': 1661, 'Schuyler Lake': 1662, 'Mountain Lakes': 1663, 'Northway': 1664, 'Book something at a ': 1665, '5 hours from now': 1666, 'my step grandfather and I': 1667, 'San Juan Capistrano': 1668, 'Evans Mills': 1669, 'Please reserve a spot at ': 1670, 'patti, hester richardson and camille': 1671, 'need a table at a ': 1672, 'june the 8th, 2029': 1673, 'May nineteenth, 2034': 1674, '1 am': 1675, 'sun': 1676, 'twelve': 1677, 'Saint Vincent and the Grenadines': 1678, 'Fish Express': 1679, 'N9NE Group': 1680, 'four minutes from now': 1681, 'Atlantic Grill': 1682, 'pizzette': 1683, 'City of the Dalles': 1684, 'Book me a ': 1685, ' please.': 1686, 'National Coney Island': 1687, 'fried fish': 1688, 'Kyrgyzstan': 1689, 'book at table at ': 1690, 'Book a reservation for a parry of ': 1691, 'jewish': 1692, 'eight years and a half from now': 1693, 'foie gras': 1694, 'Clawson': 1695, ' for food': 1696, 'The Alley': 1697, 'Volga': 1698, 'Jan. 3': 1699, 'Westhampton Beach': 1700, 'in 56 weeks': 1701, ' anywhere that serves ': 1702, 'I need to book a reservation in ': 1703, 'Bone': 1704, 'me and aisha': 1705, '. at ': 1706, 'I want seating for ': 1707, 'Cameroon': 1708, 'Fayette': 1709, ' resturant that is a ': 1710, 'Book me an ': 1711, 'Aug. the 3rd': 1712, 'candice, jeannie and nichole': 1713, 'december the 7th': 1714, 'Make reservations for ': 1715, 'Selmer': 1716, 'in one minute': 1717, 'Milton-Freewater': 1718, 'mezzes': 1719, ' want to go to an ': 1720, 'feb. 7th': 1721, 'january the 24th': 1722, ' place in ': 1723, 'smelt': 1724, 'Metropolitan Borough of Lambeth': 1725, 'Tillicum': 1726, 'Samoa': 1727, 'three years from now': 1728, 'me, silvia and sandy': 1729, 'I want to dine in ': 1730, 'the day after tomorrow': 1731, 'harriett, deanne and I': 1732, 'october 9': 1733, 'Skaneateles': 1734, 'vickie rodriguez, lila reyes and ruby': 1735, 'Central Grocery': 1736, ' uses ': 1737, 'jan. first, 2037': 1738, 'New Jersey': 1739, '3 hours from now': 1740, 'maharashtrian': 1741, 'italian dressing': 1742, 'I need a table somewhere in ': 1743, 'nine weeks from now': 1744, ' people somewhere ': 1745, '1 year from now': 1746, 'Book something for ': 1747, 'Ludlow': 1748, 'nearby': 1749, '01:51:47 pm': 1750, 'my boss and I': 1751, '5 years and a half from now': 1752, 'brasserie': 1753, 'me and my nephew': 1754, 'Enfield': 1755, 'Union Oyster House': 1756, 'I would like a table at a ': 1757, 'Meriton Grand Hotel Tallinn': 1758, 'marlene, jordan and I': 1759, 'Oasis Drive-In': 1760, 'Hurley Mountain Inn': 1761, 'aug. the 9th': 1762, ' scheduled for ': 1763, ' and for a party of ': 1764, 'roman': 1765, ' that has ': 1766, 'Arkport': 1767, 'Diners of Allentown, Pennsylvania': 1768, 'Jersey': 1769, 'Climax Springs': 1770, 'Montana': 1771, 'Michigan': 1772, 'Arcadian Court': 1773, \"robbie's hostel\": 1774, 'leonor mendoza, imogene and lisa sanchez': 1775, 'sep. the second': 1776, 'burgers': 1777, 'udupi': 1778, 'Dec. the twenty-third, 2029': 1779, '09:59 PM': 1780, 'madeleine, keisha and clara alvarez': 1781, 'Tavern on the Green': 1782, 'San Marino': 1783, 'two am': 1784, 'Make a reservation ': 1785, 'meal': 1786, 'Book a reservation for ': 1787, 'VA': 1788, 'in one second': 1789, 'eastern european': 1790, 'Bear Hotel': 1791, 'holly and brittany': 1792, 'South Dakota': 1793, 'Can you make reservations at a ': 1794, 'The Unseen Bean': 1795, 'ten AM': 1796, 'I want tables for ': 1797, 'Guyana': 1798, ' that has a table for ': 1799, 'Thompson': 1800, 'Moody': 1801, 'Hitchland': 1802, 'Antigua and Barbuda': 1803, 'book a table this ': 1804, 'Jamaica': 1805, 'nov. the twenty-second, 2023': 1806, 'elvira and I': 1807, 'next February': 1808, 'Looking for a ': 1809, 'me and my son': 1810, ' want a reservation in the ': 1811, 'I would like to book ': 1812, 'French Horn, Sonning Eye': 1813, '. Please book a ': 1814, 'The Original Soup Man': 1815, 'grits': 1816, 'mexican': 1817, 'Pershing Square, Manhattan': 1818, 'your place': 1819, 'West Palm Beach': 1820, 'sep. the 12th': 1821, 'OK': 1822, ' after us ': 1823, 'I need a booking for ': 1824, 'Crocker': 1825, 'sicilian': 1826, ' dishes, that will take reservations for ': 1827, 'I want to book a spot at the local ': 1828, 'november seventh, 2037': 1829, '. ': 1830, 'cheese steak': 1831, 'Poncha Springs': 1832, ' person.': 1833, 'Pine Bluffs': 1834, '4': 1835, 'me and sonja': 1836, 'I need a ': 1837, 'WWE The World': 1838, 'Can I get a ': 1839, 'salade': 1840, 'seafood': 1841, 'Ballachulish House': 1842, 'corn relish': 1843, ' for the next ': 1844, 'last day of sukkot': 1845, 'joint': 1846, 'Wabuska': 1847, 'Manack': 1848, 'Sweden': 1849, 'DE': 1850, ' want to eat at an ': 1851, ' I have ': 1852, 'oreo': 1853, 'cafeteria': 1854, 'Bullfeathers': 1855, 'glace': 1856, 'this winter': 1857, 'Saint Barthélemy': 1858, ' cuisine': 1859, 'their place': 1860, 'Theme restaurant': 1861, 'Cammack Village': 1862, 'Italy': 1863, '17 weeks from now': 1864, 'The Maisonette': 1865, 'my kids and I': 1866, ' somewhere in ': 1867, 'Strandburg': 1868, 'italian': 1869, 'Seward Community Cafe': 1870, 'Book a reservation for a ': 1871, 'panisses': 1872, 'Haines Borough': 1873, 'in a month': 1874, 'Find an ': 1875, 'Democratic Republic of the Congo': 1876, 'Vineyard Haven': 1877, 'Lets eat ': 1878, 'Netherlands Antilles': 1879, 'Cliff House': 1880, 'I need to find a table for ': 1881, 'Lazy Mountain': 1882, ' for an ': 1883, 'Maple Glen': 1884, 'north indian': 1885, 'my daughter and I': 1886, 'Fair Bluff': 1887, 'best': 1888, 'I need a reservation in ': 1889, 'April the twenty-seventh, 2022': 1890, 'me and belinda': 1891, ' seats at a ': 1892, 'Moores Mill': 1893, 'NY': 1894, 'The Goof': 1895, 'Main Deli Steak House': 1896, 'Bobcat Bite': 1897, \"I'm looking to bring \": 1898, \" and isn't too \": 1899, 'twelve weeks from now': 1900, 'me and bettye': 1901, 'far': 1902, 'Indiahoma': 1903, '  as ': 1904, 'tea': 1905, 'seven': 1906, ' at': 1907, 'Please call and reserve seating for ': 1908, 'me and my niece': 1909, 'Make a ': 1910, 'Municipal Borough of Farnworth': 1911, 'Baker’s Keyboard Lounge': 1912, 'Book a table for a party of ': 1913, 'Boone Tavern': 1914, 'chili con carne': 1915, 'coleslaw': 1916, 'Get me reservations for an ': 1917, 'Nappanee': 1918, 'CT': 1919, 'Encino': 1920, 'stuffed ham': 1921, 'I need seating at ': 1922, 'friday': 1923, 'in nine weeks': 1924, 'Please book a room in ': 1925, 'Reserve a place to eat on ': 1926, 'Maryland': 1927, 'Wyoming': 1928, 'I want reservations at a ': 1929, ' people to eat in ': 1930, 'Westfield': 1931, 'In ': 1932, 'John Ross House': 1933, 'june the 15th': 1934, 'vegan': 1935, 'Mars 2112': 1936, '10/24/2028': 1937, ' book a ': 1938, 'midnight': 1939, 'fish': 1940, 'Ukraine': 1941, 'in eight seconds': 1942, ' or the ': 1943, ' fascility for ': 1944, ' place ': 1945, 'not far': 1946, 'Can Fabes': 1947, 'I want to book a ': 1948, 'Tuolumne City': 1949, ' food ': 1950, 'pasta salad': 1951, 'in one hundred twenty seven days': 1952, 'in 19 hours': 1953, 'Fairview Lanes': 1954, 'ilene and aisha': 1955, 'melba and I': 1956, 'marcella, erma and leanne rivera': 1957, 'Leopold Cafe': 1958, ' and need reservations for ': 1959, 'mediterranean': 1960, 'this summer': 1961, 'me and my aunt': 1962, ' for party of ': 1963, 'me and terrie': 1964, 'Book me a table at ': 1965, 'me and georgina': 1966, 'Luray': 1967, 'southern brazilian': 1968, 'PW': 1969, \", I'd like reservations at a \": 1970, 'Five Fifty-Five': 1971, ' and a ': 1972, '8/8/2039': 1973, 'in 1 hour nine minutes and one second': 1974, 'Clinton Street Baking Company & Restaurant': 1975, 'Can you get seating for a group of ': 1976, 'Bynum': 1977, ' place or ': 1978, 'evening': 1979, 'Let me get reservations at a place ': 1980, '. Book a table at a ': 1981, \"my teenager's airbnb\": 1982, 'Nov. the 4th, 2030': 1983, 'next winter': 1984, 'in 1 second': 1985, 'Brenham': 1986, 'in 9 years': 1987, 'Illinois Central Railroad Freight Depot': 1988, 'San Francisco Brewing Company': 1989, 'taverna': 1990, 'Papua New Guinea': 1991, 'Ford Heights': 1992, 'Eagle Pass': 1993, 'Cayman Islands': 1994, 'East Brady': 1995, \"I'd like a \": 1996, 'I need to reserve ': 1997, 'Holiday': 1998, 'I want ': 1999, ' and can seat ': 2000, 'nov. the twenty-sixth': 2001, 'The Star Inn': 2002, 'vickie and caitlin': 2003, 'I want to go to ': 2004, ' that sells ': 2005, 'Book table on the ': 2006, ' somewhere': 2007, 'Argusville': 2008, 'Reserve me a resturant for ': 2009, 'Booker': 2010, 'Dominica': 2011, 'hot chicken': 2012, 'kelley and suzette': 2013, 'oyster bar': 2014, 'Orthodox Good Friday': 2015, 'Masonville': 2016, ' in the state of ': 2017, 'cherie and josephine': 2018, 'Cotton Center': 2019, 'The Dome, Edinburgh': 2020, ' there.': 2021, ' oclock in ': 2022, 'Yeager': 2023, 'The Room in the Elephant': 2024, 'The Hamburger Wagon': 2025, 'Virgin Islands': 2026, ' place on ': 2027, 'table at ': 2028, 'Pagosa Junction': 2029, 'book an ': 2030, 'Culver City': 2031, \"0 o'clock\": 2032, ' person at ': 2033, 'Ethiopia': 2034, 'manuela and yvonne': 2035, 'march 17': 2036, 'mar. fourteenth': 2037, \"erica's campus\": 2038, 'december 22': 2039, 'my location': 2040, 'churrascaria restaurant': 2041, 'The Halal Guys': 2042, 'Illinois': 2043, 'WY': 2044, 'carolina style': 2045, 'gretchen, trisha and amber': 2046, 'jimmie and chasity howard': 2047, 'Book reservation at ': 2048, 'Ireland': 2049, 'in 19 minutes': 2050, 'Book a ': 2051, 'Table for ': 2052, 'Baker City': 2053, 'brasserie restaurant': 2054, 'WI': 2055, 'me, edna and glenda': 2056, 'mamie and maria': 2057, ' room which serves ': 2058, ' stle restaraunt in the ': 2059, '00:55 am': 2060, 'I would like to book at ': 2061, 'in two years': 2062, 'karnataka': 2063, ' stle cusine for a party of ': 2064, 'Penermon': 2065, 'Make me a reservation somewhere ': 2066, 'NE': 2067, 'four': 2068, 'West Odessa': 2069, 'Hong Kong': 2070, 'Dutch Mills': 2071, 'elise and alma': 2072, 'maple syrup': 2073, 'David Whitney House': 2074, 'Atlantic Av-Barclays Ctr': 2075, ' food': 2076, 'Hallwood': 2077, 'seven am': 2078, 'Deweese': 2079, 'McSherrystown': 2080, 'meatcake': 2081, 'Loyola': 2082, ' accesss for a party of ': 2083, 'I need a reservation for ': 2084, 'My party of ': 2085, 'Japan': 2086, 'Please get seating for ': 2087, 'Find a ': 2088, ' seats to eat at in ': 2089, 'WA': 2090, 'Please find a ': 2091, 'Namibia': 2092, 'Brockway': 2093, 'Pelland': 2094, 'tetrazzini': 2095, 'Coon Chicken Inn': 2096, 'their hostel': 2097, 'Bulgaria': 2098, 'DeKalb Av': 2099, 'Eleele': 2100, 'Rhode Island': 2101, 'Bowers': 2102, 'I want to eat a a ': 2103, ' want go eat ': 2104, 'Fraser Mansion': 2105, 'our house': 2106, 'Gun Hill Rd': 2107, 'november 19': 2108, ' to a place to eat at ': 2109, 'january the 11th': 2110, 'tavern': 2111, 'english': 2112, 'Book a  table for ': 2113, 'Indonesia': 2114, 'Book a reservation at a restaraunt in ': 2115, 'Seeley Lake': 2116, 'Nicholasville': 2117, 'malaysian': 2118, 'Federal Hill': 2119, 'ice cream': 2120, \"I'm in \": 2121, 'pub restaurant': 2122, 'CA': 2123, 'lebanese': 2124, 'Book reservations at the ': 2125, 'WV': 2126, ' from ': 2127, 'me and my step mother': 2128, 'me, geneva and wilda': 2129, 'Lets take ': 2130, 'Verona': 2131, 'andouillettes': 2132, ' want to eat in ': 2133, 'elevenses': 2134, 'Bouchon': 2135, 'Labworth Café': 2136, 'Satanta': 2137, 'neighborhood': 2138, 'Colorado': 2139, ' for their ': 2140, 'august 25': 2141, '18:28': 2142, ' people to eat': 2143, 'Apache Junction': 2144, 'eight AM': 2145, ' cuisine at a ': 2146, ' numbers': 2147, 'set an reservation for a party of ': 2148, ' the is ': 2149, 'jan. 18, 2029': 2150, 'Carter House Inn': 2151, ' around ': 2152, 'China': 2153, ' on ': 2154, 'Hitchita': 2155, '3 PM': 2156, 'two PM': 2157, 'November the twelfth, 2030': 2158, 'I would like to book a table at a ': 2159, 'Lets go and take ': 2160, 'Itsu': 2161, ' people that serves ': 2162, 'Unalaska': 2163, ' I ate at ': 2164, 'crepe': 2165, 'liver and onions': 2166, 'The Training Table': 2167, ' want to eat at ': 2168, 'El Reno': 2169, 'Haskell': 2170, 'I need to find a ': 2171, 'The Ledbury': 2172, 'The Water Club': 2173, '10/22/2030': 2174, 'Phase 1': 2175, ' the ': 2176, 'North River': 2177, 'Colorado City': 2178, 'The Hat': 2179, 'I have ': 2180, 'I would like to book at a ': 2181, ' from the ': 2182, 'me and my crew': 2183, 'my child and I': 2184, '1 hour and 1 minute from now': 2185, 'me and rosemary': 2186, ' to me in ': 2187, 'La Jara': 2188, 'Turtle Creek': 2189, 'spätzle': 2190, ', looking for an ': 2191, 'Palmyra': 2192, 'essie, tonya and I': 2193, 'olives': 2194, 'japanese': 2195, 'surf and turf': 2196, 'Portugal': 2197, ' reserved in ': 2198, 'casey and I': 2199, ' that can accommodate a party of ': 2200, ' before ': 2201, ' at a place ': 2202, 'The Fry Bread House': 2203, 'irene and rosella': 2204, 'in seven years ': 2205, 'reserve a ': 2206, 'Virginia': 2207, '6/14/2035': 2208, 'Eddie’s Attic': 2209, 'Mar. eighteenth, 2030': 2210, 'Find a reservation at ': 2211, 'gateau': 2212, 'PR': 2213, ' plaCE': 2214, ' place that serves ': 2215, 'Venetian Theatre': 2216, ' and has ': 2217, 'Ansonia': 2218, 'me and my mommy': 2219, \"18 o'clock\": 2220, 'me and my mother in law': 2221, 'book at ': 2222, 'Rocky Fork': 2223, 'Kokomo': 2224, 'chicken and waffles': 2225, 'book some ': 2226, 'Roach': 2227, 'Book reservations ': 2228, 'book a ': 2229, 'Lets go eat in ': 2230, 'Carnot': 2231, ' at one of the ': 2232, '  scheduled for ': 2233, 'neighboring area': 2234, 'Tonga': 2235, 'Cimarron City': 2236, 'Need to book a reservtion for a ': 2237, 'oct. the 6th': 2238, 'The French Laundry': 2239, 'Oakes': 2240, 'Mexico': 2241, '13 hours from now': 2242, 'waffle': 2243, 'pub': 2244, 'Swaziland': 2245, 'Georgetown Cupcake': 2246, 'Nunam Iqua': 2247, 'Where can I book a table ': 2248, 'I want to make a reservation for ': 2249, ' that can seat ': 2250, 'Niagara Falls': 2251, 'next autumn': 2252, ' to get a table reserved at a ': 2253, 'Perrytown': 2254, 'make a reservation at a ': 2255, ' that serve ': 2256, 'French Southern Territories': 2257, 'in 16 minutes': 2258, 'me and my kids': 2259, 'Can you book a table for a party of ': 2260, 'february the 14th': 2261, \"sixteen o'clock\": 2262, 'feb': 2263, 'Evening': 2264, 'Metropolitan Borough of Bethnal Green': 2265, 'Delaware': 2266, '6': 2267, 'glenda, lois and tamra': 2268, 'mac and cheese': 2269, '7 am': 2270, 'I want to go to that ': 2271, 'carne pizzaiola': 2272, 'charlene and I': 2273, 'Can you get seating for ': 2274, 'kosher': 2275, 'United Kingdom': 2276, \"sondra's university\": 2277, 'Wilson Av': 2278, ' serving ': 2279, 'Guernsey': 2280, 'tibetan': 2281, 'gwen carter and I': 2282, 'Can you get me a table at a ': 2283, 'VI': 2284, 'Northern Mariana Islands': 2285, 'me, reyna and maxine': 2286, 'Pilot Mound': 2287, 'Agate': 2288, 'Glenarden': 2289, 'Need a table for a party of ': 2290, 'find and book a ': 2291, ' want to go to the ': 2292, 'book a spot that is ': 2293, 'today': 2294, 'Sep. the second, 2020': 2295, 'Robinson House': 2296, 'in 1 hour': 2297, 'Book reservations at a  for ': 2298, 'snack': 2299, 'Greensburg': 2300, 'Honduras': 2301, 'Whitewater': 2302, 'hog fry': 2303, 'Singapore': 2304, 'Malin': 2305, 'Hayden Row': 2306, ' which serves ': 2307, 'book a table for a ': 2308, 'Grand Portage': 2309, 'Hat Creek': 2310, 'breakfast': 2311, 'me and jami': 2312, 'Dinner in the Sky': 2313, 'me and my wife': 2314, 'ten PM.': 2315, '10:24': 2316, 'Gibraltar': 2317, \"I'd like to book the \": 2318, 'evangeline and petra cooper': 2319, ' from our ': 2320, 'their airbnb': 2321, 'nadine, sherrie and I': 2322, '8': 2323, 'MT': 2324, 'hungarian': 2325, 'Hoonah': 2326, ' to eat at in ': 2327, 'Minnesota': 2328, \"I'd like to go to a \": 2329, 'in 2 minutes': 2330, 'book a table ': 2331, ' for dinner ': 2332, 'Midnight': 2333, ' cusinie ': 2334, 'crystal and brittney': 2335, 'jan. 7, 2023': 2336, 'I need to book the ': 2337, '5 North St': 2338, ' cuisine in ': 2339, 'Malta': 2340, '42 weeks from now': 2341, 'bagels': 2342, 'Kosovo': 2343, 'Green Restaurant Certification': 2344, 'Deersville': 2345, 'in two hundred sixty nine days': 2346, 'Nankin Cafe': 2347, 'Sterling St': 2348, 'Northvale': 2349, 'Topton': 2350, ' people. ': 2351, 'bio': 2352, 'make a reservation for ': 2353, ' access': 2354, 'Sutphin Blvd': 2355, 'me and josefa': 2356, 'wifi': 2357, 'Montverde': 2358, ' as ': 2359, 'James D. Conrey House': 2360, 'Fiji': 2361, 'I would like reservations for ': 2362, 'mongolian': 2363, 'Eucalyptus Hills': 2364, 'we': 2365, 'I need reservations at ': 2366, 'Childersburg': 2367, 'Burkettsville': 2368, 'american': 2369, 'Mount Repose': 2370, 'Would like a table right ': 2371, 'book a table at ': 2372, 'antoinette, christine and caitlin': 2373, 'tuscan': 2374, 'LA': 2375, 'I want to bring ': 2376, 'I would like a ': 2377, ' a ': 2378, ', party of ': 2379, 'Borough de Denali': 2380, 'Fort McKinley': 2381, 'in 119 and a half days': 2382, \"fisn'n chips\": 2383, 'Glazier': 2384, 'antoinette and I': 2385, 'Reserve a table in ': 2386, 'South Sudan': 2387, 'velma and gloria': 2388, 'FM': 2389, 'me and my grandkid': 2390, 'fettucine': 2391, 'jain': 2392, 'Hopatcong': 2393, 'Irvington': 2394, 'I need seats for ': 2395, 'East Timor': 2396, 'Colombia': 2397, 'claudia and imelda': 2398, \"my baby's work\": 2399, 'Israel': 2400, 'Bridge Round House': 2401, 'me and lauren': 2402, 'southeastern brazilian': 2403, 'around': 2404, 'Need a table in ': 2405, 'Feb. the seventh': 2406, '4 am': 2407, 'Pinto': 2408, 'book a spot at the ': 2409, 'Make a reservation at a ': 2410, 'bucatini': 2411, 'four am': 2412, 'in 2 years': 2413, 'Boonton': 2414, 'Book an ': 2415, 'me and robin': 2416, ' with an ': 2417, 'Dodge Park': 2418, 'Jul.': 2419, 'Greece': 2420, 'Clermont': 2421, 'Reserve in ': 2422, 'I want to go to the ': 2423, '10 pm': 2424, ' cuisines in ': 2425, '6 PM.': 2426, '10/14/2026': 2427, 'Boon Brick Store': 2428, 'empanada': 2429, 'The Kegs Drive-In': 2430, 'me and my ex wife': 2431, 'Takilma': 2432, 'Need a table ': 2433, ' I need a ': 2434, \"I'm looking for a local \": 2435, \"I'm looking to get reservations for \": 2436, 'salads': 2437, 'London Borough of Enfield': 2438, 'Maine': 2439, 'book sot for ': 2440, \", I'd like to eat at a \": 2441, 'minestra': 2442, 'Windows on the World': 2443, 'Carencro': 2444, 'Calistoga': 2445, 'martin luther king jr. day': 2446, 'my step father and I': 2447, 'Mineola': 2448, 'crab': 2449, 'sep. 23, 2023': 2450, 'Rimsky-Korsakoffee House': 2451, ' food.': 2452, '10 am': 2453, ' want to visit a ': 2454, 'Snow Lake': 2455, 'Gasconade': 2456, 'Book a table at ': 2457, \"I'd like to book a reservation for \": 2458, ' for food ': 2459, ' of my ': 2460, 'Need a table for ': 2461, 'in one hour': 2462, 'european': 2463, 'Pataskala': 2464, 'nineteen minutes from now': 2465, 'First Day Of Sukkot': 2466, 'First Watch': 2467, 'mughlai': 2468, '  .': 2469, 'Can I book a ': 2470, 'me and my step daughter': 2471, 'Hollenberg': 2472, 'Nevada': 2473, 'I need a table at the ': 2474, 'I would like to book a ': 2475, 'The River Café': 2476, 'Avalon': 2477, 'Make me a reservation that serves ': 2478, 'eleven hours from now': 2479, 'Emmons': 2480, 'Old Orchard Beach': 2481, 'I need to reserve a seat for ': 2482, 'Otho': 2483, 'IL': 2484, 'Almyra': 2485, 'Coney Island': 2486, '5': 2487, 'Lexington Av-53rd St': 2488, 'Modesto': 2489, '2 am': 2490, '103rd St': 2491, 'I need to make a reservation at a ': 2492, 'The Palm': 2493, ' that is ': 2494, 'Vigus': 2495, 'Beauregard': 2496, 'african': 2497, 'Lebanon': 2498, ' would like to get together at a ': 2499, 'kebab': 2500, 'Jun. the sixteenth, 2032': 2501, 'tammi, beverly and alba': 2502, 'steak': 2503, 'I want to book a table at a ': 2504, 'sushi': 2505, 'I need a table for a party of ': 2506, 'sundanese': 2507, ' trip that is ': 2508, ' would like to go to ': 2509, 'I need seating for ': 2510, 'Thornbury Castle': 2511, 'toast': 2512, 'sushis': 2513, 'kelli, jean and I': 2514, 'I want to eat for ': 2515, 'Kit Carson': 2516, 'I need a reservation that has ': 2517, 'nine years from now': 2518, 'me and carmella': 2519, ' the city of ': 2520, 'Alberton': 2521, 'taverna restaurant': 2522, 'feb. 20, 2040': 2523, 'agnolotti': 2524, 'Book me seats for ': 2525, '5 AM': 2526, ' restaurant for a party of ': 2527, 'me and my father in law': 2528, 'J.G. Melon': 2529, 'Saratoga Av': 2530, 'need a table at ': 2531, 'I need reservations for ': 2532, 'Harding': 2533, 'Falkland Islands': 2534, 'Book a reservation at a ': 2535, 'seven pm': 2536, '9 and a half months from now': 2537, 'Follett': 2538, 'Henniker': 2539, 'I really need a ': 2540, 'Johnston': 2541, 'Crouch': 2542, 'Hurricane': 2543, 'noon': 2544, 'Antarctica': 2545, 'january 11th, 2032': 2546, 'tomorrow': 2547, ' book a table for ': 2548, 'Fork Mountain': 2549, 'Solomon Islands': 2550, 'I need a table for ': 2551, 'Shabbona': 2552, 'The Counter': 2553, 'outdoor': 2554, 'protein bar': 2555, 'Lake Alfred': 2556, 'Book me a reservation for ': 2557, 'I want to get ': 2558, 'gratin': 2559, 'GA': 2560, 'Reserve me a table for ': 2561, 'Beach 105th St': 2562, '7/27/2036': 2563, 'Bosnia and Herzegovina': 2564, ' at a restarunt in ': 2565, 'osteria restaurant': 2566, 'fries': 2567, 'I am looking for a ': 2568, 'me, chandra and noelle': 2569, ' where I live in ': 2570, 'Need a table  for party of ': 2571, 'Mississippi': 2572, 'Forest Av': 2573, 'Conflict Kitchen': 2574, 'christie, concepcion and I': 2575, 'Black Rapids Roadhouse': 2576, 'Anguilla': 2577, 'Boreas': 2578, 'Fashion Cafe': 2579, 'three weeks from now': 2580, 'thai': 2581, 'Florida': 2582, 'coffeehouse restaurant': 2583, 'me, valarie and caroline': 2584, 'tsipouro': 2585, 'Freight House': 2586, 'april eleventh': 2587, 'Cross Timbers': 2588, 'Find a reservation at the ': 2589, 'January 9': 2590, 'next Summer': 2591, 'pizzeria restaurant': 2592, 'The Restaurant at Meadowood': 2593, 'Top of the Mark': 2594, 'Mauritania': 2595, ' type ': 2596, 'Can  book a ': 2597, 'The Oriel': 2598, 'Pollock': 2599, 'Sturgeon': 2600, 'restaurant  joint': 2601, ' party for ': 2602, 'in six years': 2603, 'Book me a table for a party of ': 2604, 'august 5': 2605, 'Lets go eat ': 2606, 'me and adela': 2607, ' that can feed ': 2608, 'Montenegro': 2609, '163 days from now': 2610, 'party for ': 2611, ' need reservations for somewhere in ': 2612, 'Chapter One': 2613, 'one minute from now': 2614, 'April the 10th': 2615, 'book me a table at a ': 2616, ', has room for ': 2617, 'my mom and I': 2618, ' having ': 2619, 'haystack': 2620, 'Gaslight Tavern': 2621, 'pigs in blankets': 2622, 'Comoros': 2623, ' of ': 2624, 'conchiglie': 2625, 'I have a party of ': 2626, 'chichi': 2627, ' want to book a ': 2628, 'Hallowell': 2629, 'my sons and I': 2630, 'Midland Park': 2631, 'josie, carissa and lindsay': 2632, 'Saint James': 2633, 'Tun Tavern': 2634, \" that isn't too \": 2635, 'Sistersville': 2636, ' want a reservation in ': 2637, 'noodle': 2638, 'grilled meat': 2639, 'tortano': 2640, ' would like a ': 2641, 'Germfask': 2642, 'Croatia': 2643, ' and I need a table for ': 2644, 'meredith, betty and erika': 2645, 'Village Green': 2646, 'caribbean': 2647, 'australian': 2648, 'BOok me a table for ': 2649, 'Yamhill': 2650, '  for ': 2651, ' right ': 2652, 'burrito': 2653, ' that specialises in being a ': 2654, 'I need a reservation for the ': 2655, 'me and my best friend': 2656, ' type room to accommodate ': 2657, \"12 o'clock\": 2658, ' access for a party of ': 2659, ' table at ': 2660, 'I would like to eat ': 2661, '1/1/2018': 2662, 'I want to book a table for a party of ': 2663, 'McColl': 2664, 'top-rated': 2665, 'Maldives': 2666, 'I want to book a table for ': 2667, 'august the 17th, 2024': 2668, 'in 1 hour and 1 second': 2669, 'AMbler': 2670, 'Sand Lake': 2671, 'pho': 2672, 'south indian': 2673, 'tommie and vera rogers': 2674, 'Book at table at a ': 2675, 'I need a table ': 2676, 'Bastian': 2677, 'Book a table at a ': 2678, 'bistro': 2679, 'next fall': 2680, 'tofy': 2681, ' for ': 2682, 'North Korea': 2683, 'Gabon': 2684, 'The Gowanus Yacht Club': 2685, 'Robinson': 2686, 'robyn martinez, maude and I': 2687, 'City Tavern': 2688, 'july the fourteenth, 2022': 2689, 'Cashel Palace Hotel': 2690, '7/25/2027': 2691, 'The Pump Room, Chicago': 2692, 'Crugers': 2693, 'ten minutes from now': 2694, 'Kuwait': 2695, 'my momy and I': 2696, 'me and my great grandfather': 2697, 'teresa and elnora': 2698, 'Morris Ranch': 2699, 'Sint Maarten': 2700, \"Cajah's Mountain\": 2701, 'Wrigley': 2702, 'me, winnie and courtney': 2703, 'ma po tofu': 2704, 'deviled crab': 2705, ' guests at a ': 2706, 'West Compton': 2707, 'MA': 2708, 'need to book a table in ': 2709, 'Can you get me a reservation at ': 2710, 'Waddy': 2711, 'Medford Lakes': 2712, \"pauline's place\": 2713, 'The Mustard Seed': 2714, 'Douglas': 2715, 'Nisswa': 2716, 'campanian': 2717, 'AZ': 2718, 'I want to be ': 2719, 'book table to a ': 2720, 'East Prairie': 2721, 'October fifth': 2722, 'Co-operative Block Building': 2723, 'my girlfriend and I': 2724, 'Brucetown': 2725, 'make a table reservation at the ': 2726, 'I want to book reservations for ': 2727, 'Ely': 2728, 'crab cake': 2729, 'December 26, 2040': 2730, '7 AM': 2731, 'Hord': 2732, 'my teenager and I': 2733, 'july 20th': 2734, ' next to a ': 2735, 'Cottondale': 2736, 'Reserve me a table a ': 2737, 'next dec': 2738, 'vegetarian': 2739, ' cuisine. ': 2740, 'Weathervane Restaurant': 2741, 'tia, madeline and estela': 2742, 'NV': 2743, 'book a table on ': 2744, 'Latvia': 2745, ' food that is ': 2746, 'morning': 2747, 'bouchée': 2748, 'Saint Bonaventure': 2749, ' or somewhere ': 2750, 'spanish rice': 2751, 'Cocos Islands': 2752, 'I want to book at a ': 2753, 'book ': 2754, 'book a table at a ': 2755, 'Cleveland': 2756, 'Find a reservation for a ': 2757, '9 pm': 2758, 'Lumpkin': 2759, 'Saturday': 2760, 'Mondovi': 2761, 'I want to book a spot at a ': 2762, 'sri lankan': 2763, 'Orchard Grass Hills': 2764, 'Ivory Coast': 2765, 'I want seats for ': 2766, 'Briarwood': 2767, 'I need a table in the state of ': 2768, 'Kremmling': 2769, 'Book reservations at a ': 2770, 'Kane': 2771, 'sonya, rebekah and I': 2772, 'purim': 2773, 'april the eighteenth, 2030': 2774, '0 pm': 2775, ' trip that serves ': 2776, ' that I can get a ': 2777, ' need a table at a ': 2778, 'Tartine': 2779, 'Virginia City': 2780, 'Guanica': 2781, 'masala': 2782, 'Denmark': 2783, 'Freshwater Bay': 2784, 'elsa and wendy': 2785, 'MH': 2786, 'The One Eighty': 2787, 'rabbit pie': 2788, 'book for ': 2789, 'Blue Ribbon Barbecue': 2790, 'Book restaurnt at ': 2791, 'Comunas': 2792, 'rillettes': 2793, ' person on ': 2794, 'Chowchilla': 2795, 'Lafe city': 2796, 'Lithuania': 2797, ' of our hotel.': 2798, 'Eighth Step Coffee House': 2799, 'jacqueline wilson and deanna': 2800, 'Juniper': 2801, \"I'd like to get a \": 2802, '88th St-Boyd Av': 2803, ' by and book seats for ': 2804, 'U.S. Minor Outlying Islands': 2805, 'The Peak Lookout': 2806, 'Allison': 2807, 'leticia, melva and twila edwards': 2808, ' dish': 2809, ' reservation ': 2810, '22:54': 2811, 'McLaurin': 2812, 'Newport Creamery': 2813, ' to eat in ': 2814, 'Snapfinger': 2815, 'me and deanna': 2816, 'pool': 2817, 'Jan. 18th, 2035': 2818, 'Ettrick': 2819, 'Macedonia': 2820, 'latin': 2821, 'Can you book me a table for ': 2822, 'Book a spot at a ': 2823, ' from now.': 2824, 'six pm': 2825, ' somewhee in ': 2826, 'me and deborah vasquez': 2827, 'Graniteville': 2828, 'smoking room': 2829, 'in sixteen minutes': 2830, ' from here': 2831, 'halal': 2832, 'I want to book ': 2833, ' members on ': 2834, ',  in ': 2835, 'South Duxbury': 2836, 'Book spot for ': 2837, '45 weeks from now': 2838, 'Jul. the 18th, 2024': 2839, 'Elma': 2840, 'cupcake': 2841, 'Need a ': 2842, 'Need to book a table at a ': 2843, 'cambodian': 2844, 'pôchouse': 2845, 'Old Dutch': 2846, ' for a ': 2847, 'Iraq': 2848, 'me and my children': 2849, 'Pohick': 2850, 'a year from now': 2851, 'AS': 2852, 'in two seconds': 2853, 'Jean-Georges': 2854, 'June the fifth, 2035': 2855, 'food truck': 2856, ', ': 2857, '  make a reservation for a table of ': 2858, 'Apr. the seventeenth, 2024': 2859, 'Get me reservations for ': 2860, 'Set me up with a table at a ': 2861, 'not': 2862, 'Anstruther Fish Bar': 2863, 'July eighth, 2023': 2864, 'Hazel Green': 2865, 'I need to get a ': 2866, 'Nov. the 1st': 2867, 'Cozy Dog Drive In': 2868, 'I want to book the ': 2869, 'me and my step uncle': 2870, 'quiche': 2871, 'nine am': 2872, ' where I can get a ': 2873, \"I'd like to book a place to eat in \": 2874, ' in the city of ': 2875, 'Walpole': 2876, 'I want a table for ': 2877, 'supper': 2878, 'Ocean Gate': 2879, ' room accommodate for ': 2880, 'nannie and I': 2881, ' would like to go eat at ': 2882, 'October the fifth': 2883, 'Red Square': 2884, 'Can you get me a table reserved for ': 2885, 'feb. the fourth': 2886, 'North Dakota': 2887, 'Municipal Borough of Mitcham': 2888, 'Find me a ': 2889, 'Get me a table at ': 2890, '18:49:20': 2891, 'my granddaughter and I': 2892, 'deidre and rosa': 2893, 'me and my daughters': 2894, 'jun. 2': 2895, 'Svalbard and Jan Mayen': 2896, 'Gate City': 2897, 'in the same area': 2898, ' at an ': 2899, 'in 12 months': 2900, 'Albania': 2901, 'tonight': 2902, 'jasmine, jeannie and leta': 2903, 'macaroni': 2904, 'Can I reserve the ': 2905, 'I need to book a table at a ': 2906, 'Botswana': 2907, 'need a table for ': 2908, 'Grainola': 2909, 'Moravian Falls': 2910, 'Kaanapali': 2911, 'French Polynesia': 2912, 'Find me a table at a ': 2913, 'rebekah taylor and marcie': 2914, 'feb. 18': 2915, 'Ballylickey House': 2916, 'October fifteenth, 2020': 2917, 'April 21': 2918, ' dishes': 2919, 'gluten free': 2920, 'me and my grandmother': 2921, 'apple butter': 2922, 'Mount Pocono': 2923, ' people in the ': 2924, 'Sierraville': 2925, 'Exmore': 2926, 'I need to book a ': 2927, 'Zimbabwe': 2928, 'Can you get a table at ': 2929, 'Owenyo': 2930, 'german': 2931, 'I want to find a ': 2932, 'Goodland': 2933, 'The Berghoff': 2934, 'I would like an ': 2935, 'I would like to make a reservation for ': 2936, 'Eleven Madison Park': 2937, 'katina and josefina gray': 2938, ' which has ': 2939, 'Can you make reservations for a party of ': 2940, 'bread': 2941, ' and want ': 2942, 'The Spotted Pig': 2943, 'I want to take ': 2944, ' people on ': 2945, 'East Gillespie': 2946, 'i want to eat a ': 2947, 'Please book a table for ': 2948, 'I want to book a table at ': 2949, 'scrapple': 2950, 'chicken divan': 2951, 'romagna': 2952, 'october the 13th, 2039': 2953, ' spot that serves ': 2954, 'Serendipity 3': 2955, 'IA': 2956, 'my step aunt and I': 2957, 'afghan': 2958, 'call for a table of ': 2959, 'punjabi': 2960, 'FL': 2961, \"fifteen o'clock\": 2962, 'Can you reserve a table ': 2963, 'West Hattiesburg': 2964, ' as my ': 2965, 'Alabama': 2966, 'Marshall Islands': 2967, 'Atlas': 2968, 'in three months': 2969, 'ida, monica and etta': 2970, 'close by': 2971, 'Tin City': 2972, ' want to eat at a ': 2973, 'sixteen hours from now': 2974, 'Salado': 2975, 'me and my step sister': 2976, 'Hoyt St': 2977, 'Feb. 15th, 2029': 2978, ' that would like to eat ': 2979, 'in one week': 2980, 'this Winter': 2981, 'Afternoon': 2982, 'NC': 2983, 'Iron Springs': 2984, 'Lake Fenton': 2985, \"I'd like a table for \": 2986, 'Mauritius': 2987, 'Coney Island Hot Dog Stand': 2988, 'Ravensdale': 2989, \" that's \": 2990, 'Spade': 2991, '05:51:52': 2992, 'Mar. thirteenth, 2026': 2993, 'Blue Anchor': 2994, 'bunker hill day': 2995, 'country': 2996, 'me and hannah': 2997, 'The Lake House': 2998, 'Hypoluxo': 2999, 'I need a reservation for an ': 3000, 'chasity and I': 3001, 'clafoutis': 3002, 'Irma Hotel': 3003, 'Livonia Av': 3004, 'Australia': 3005, 'reserve a table at ': 3006, 'terri and I': 3007, 'Little Grill Collective': 3008, 'lucille and marina': 3009, \"two o'clock\": 3010, '2/21/2021': 3011, 'tea house': 3012, 'ash wednesday': 3013, 'Book a table somewhere in ': 3014, ' to ': 3015, 'Roseland Theater': 3016, 'august the 16th': 3017, 'Foley': 3018, 'fry sauce': 3019, 'patty and I': 3020, 'November seventeenth, 2019': 3021, 'New Tulsa': 3022, ' people at a ': 3023, 'Feb. the twenty-seventh': 3024, \"I'd like to book a \": 3025, '2 years from now': 3026, 'hangtown fry': 3027, \"I'm looking to book a seat at a \": 3028, 'neighboring': 3029, 'Surf Taco': 3030, 'esperanza and tommie': 3031, 'spa': 3032, 'Saint Helens': 3033, 'Fatty Crew': 3034, 'me, jillian and louella': 3035, 'What is the ': 3036, 'in two hundred thirty seven days': 3037, ' reservation in ': 3038, 'me and my mummy': 3039, 'feb. the twenty-sixth, 2026': 3040, 'HI': 3041, \"adeline's apartment\": 3042, 'Iran': 3043, 'Flaxton': 3044, 'sherry and concepcion': 3045, 'baba au rhum': 3046, 'South Pekin': 3047, 'Coronado': 3048, 'margie and I': 3049, 'Callicoon': 3050, 'Finsbury Park': 3051, 'next October': 3052, 'Bock': 3053, ' wants to eat at ': 3054, 'Argentina': 3055, 'rachael morris and shannon': 3056, 'in 16 hours': 3057, 'Serbia': 3058, ' for any ': 3059, 'Sunrise': 3060, 'susanne and carey phillips': 3061, 'Panama': 3062, \", I'd like to make reservations at a \": 3063, 'Book a reservation ': 3064, 'The Red Onion': 3065, 'Armour': 3066, 'gibassier': 3067, 'highly rated': 3068, 'Manning': 3069, \" I'd like to eat at a \": 3070, ' reservation for somewhere in ': 3071, \"your teenager's college\": 3072, 'Please book a ': 3073, 'apr. the sixteenth, 2027': 3074, \"I'm going to \": 3075, ' members at ': 3076, '5 am': 3077, 'chips': 3078, 'KY': 3079, 'dec. the fifth, 2026': 3080, 'Make me reservations for a ': 3081, 'I need a table booking for a ': 3082, 'John Pearson Soda Works': 3083, ' would really like to eat ': 3084, 'Seabrook': 3085, ' my ': 3086, 'Noyack': 3087, \"fran's location\": 3088, 'Syria': 3089, 'me, angela and vilma': 3090, 'Poland': 3091, 'I need to get seats for ': 3092, 'Restaurant': 3093, 'Geddes': 3094, 'please book a ': 3095, 'Friona': 3096, '6 pm': 3097, '9 AM': 3098, 'Hendley': 3099, ' and have a party of ': 3100, \"indigenous people's day\": 3101, \"twenty three o'clock\": 3102, 'Mountain Iron': 3103, 'bear claw': 3104, 'Coney I-Lander': 3105, 'South Farmingdale': 3106, 'in 1 minute': 3107, 'I need reservations in ': 3108, \"I'd like to book at a place in \": 3109, 'joanna and ella': 3110, ' at the ': 3111, 'The Brazen Head': 3112, 'pain perdu': 3113, 'chicken nugget': 3114, 'Elk Rapids': 3115, 'Can you make reservations for ': 3116, ' want to dine at ': 3117, 'Kellerton': 3118, 'one': 3119, 'book on ': 3120, 'Brazil': 3121, ', maybe a ': 3122, 'I want to eat at the ': 3123, \" I'd like a reservation at a \": 3124, 'Crown Burgers': 3125, 'Bhutan': 3126, 'Great House at Sonning': 3127, '22': 3128, 'Garner': 3129, 'Harry’s Bar': 3130, 'june 23rd, 2040': 3131, 'jeanne collins, amy and I': 3132, 'Lochearn': 3133, 'muffuletta': 3134, 'Mango': 3135, ', capital of ': 3136, 'luisa and I': 3137, 'Carpenterville': 3138, 'I need to book a table at a place ': 3139, 'hawaiian': 3140, 'soul food': 3141, 'Can I get a table at ': 3142, ' In ': 3143, 'Colony': 3144, 'Brookneal': 3145, 'Atomic Cafe': 3146, 'meredith, louisa and corrine': 3147, 'Jordan': 3148, 'thursday': 3149, \"I'm looking for a table of \": 3150, 'Eminence': 3151, 'november the 24th, 2027': 3152, 'October 6th, 2019': 3153, 'bar': 3154, 'next mar': 3155, 'Massachusetts': 3156, 'Ottoville': 3157, 'Burkina': 3158, '02:22 pm': 3159, 'Beardslee Castle': 3160, 'lee and ines': 3161, 'Cuney': 3162, 'in 55 weeks': 3163, 'Albertson': 3164, 'in 5 seconds': 3165, 'Sterling Run': 3166, 'Delhi': 3167, 'Central African Republic': 3168, 'nona gray, myrtle and alison': 3169, 'TN': 3170, 'madeleine': 3171, '7 pm': 3172, 'North Salt Lake': 3173, '  of ': 3174, 'book a table at an ': 3175, 'January the 7th': 3176, 'northeast indian': 3177, ' here in ': 3178, 'our location': 3179, 'Homer City': 3180, 'Original Spanish Kitchen': 3181, 'I need ': 3182, 'Leopold': 3183, 'Ocean Grove': 3184, 'vermicelli': 3185, 'British Indian Ocean Territory': 3186, 'me and edith': 3187, 'Horatio': 3188, 'Please reserve a table for ': 3189, 'fast food restaurant': 3190, 'Light Horse Tavern': 3191, 'Timberville': 3192, 'betty and dolly': 3193, 'scandinavian': 3194, 'april twenty-second': 3195, 'Pauls Crossroads': 3196, 'North Lima': 3197, 'Washington': 3198, 'february 27, 2020': 3199, 'Crown Candy Kitchen': 3200, 'Patetown': 3201, 'our apartment': 3202, 'russian tea cake': 3203, 'this year': 3204, 'New Zealand': 3205, 'restaurant': 3206, 'Book reservations to a ': 3207, 'book a table for a party of ': 3208, 'my parents and I': 3209, 'lobster roll': 3210, 'CityZen': 3211, 'tanisha, lorena and juliana': 3212, 'Wheeler': 3213, 'kristina and teresa': 3214, 'Isle of Man': 3215, \"I'm craving \": 3216, 'swiss': 3217, 'Cuba': 3218, 'Mackville': 3219, 'march fifteenth': 3220, 'Rainbow Lakes': 3221, ' here for ': 3222, 'molise': 3223, 'Germania': 3224, 'Olive': 3225, ' this ': 3226, 'kouglof': 3227, 'monday': 3228, 'Monaco': 3229, 'area': 3230, 'Western Sahara': 3231, 'Laurie Beechman Theatre': 3232, 'Dec. the eighth': 3233, 'Find a reservation in ': 3234, 'December 6, 2031': 3235, 'romanian': 3236, 'Lavalette': 3237, 'ENDPAD': 3238}\n"
     ]
    }
   ],
   "source": [
    "# Creating a dictionary of words/tags and their respective index\n",
    "# word to index\n",
    "word2idx = {w: i for i, w in enumerate(words)}\n",
    "# Tag to index\n",
    "tag2idx =  {t: i for i, t in enumerate(tags)}\n",
    "print(\"Word to index:\",word2idx)"
   ]
  },
  {
   "cell_type": "code",
   "execution_count": 401,
   "metadata": {},
   "outputs": [
    {
     "name": "stdout",
     "output_type": "stream",
     "text": [
      "Tag to index: {'state': 0, 'country': 1, 'sort': 2, 'facility': 3, 'party_size_description': 4, 'restaurant_type': 5, 'poi': 6, 'served_dish': 7, 'city': 8, 'party_size_number': 9, 'restaurant_name': 10, 'spatial_relation': 11, 'cuisine': 12, 'timeRange': 13, 'O': 14}\n"
     ]
    }
   ],
   "source": [
    "print(\"Tag to index:\",tag2idx)"
   ]
  },
  {
   "cell_type": "markdown",
   "metadata": {},
   "source": [
    "### 9. Padding the sentence sequence to the maximum sentence sequence length 13"
   ]
  },
  {
   "cell_type": "code",
   "execution_count": 402,
   "metadata": {},
   "outputs": [
    {
     "name": "stdout",
     "output_type": "stream",
     "text": [
      "Before Padding: [2754, 787, 3206, 1489, 503, 2682, 2544]\n",
      "After  Padding: [2754  787 3206 1489  503 2682 2544 3238 3238 3238 3238 3238 3238 3238\n",
      " 3238]\n",
      "Word used for padding: ENDPAD\n"
     ]
    }
   ],
   "source": [
    "# 1. Padding word sequences\n",
    "X = [[word2idx[w[0]] for w in s] for s in sentences]\n",
    "print(\"Before Padding:\",X[0])\n",
    "\n",
    "# maxlen = 13 (for padding)\n",
    "# sequence -> contains X list\n",
    "# post -> padding should be done after the sentence sequence\n",
    "# value -> n_words = 3239\n",
    "# value = 3239 - 1 = 3238 \n",
    "# Here the value that is padded is 3238 which is the index of the loast word in the list [ENDPAD]\n",
    "X = pad_sequences(maxlen=maxlen, sequences=X, padding=\"post\",value=n_words - 1)\n",
    "print(\"After  Padding:\",X[0])\n",
    "print(\"Word used for padding:\",words[n_words-1]) # ENDPAD -> used as a filler in padding"
   ]
  },
  {
   "cell_type": "code",
   "execution_count": 403,
   "metadata": {},
   "outputs": [
    {
     "name": "stdout",
     "output_type": "stream",
     "text": [
      "Before padding: [14, 10, 5, 14, 0, 14, 13]\n",
      "After padding: [14 10  5 14  0 14 13 14 14 14 14 14 14 14 14]\n",
      "Categorical Data:\n",
      "[[0. 0. 0. 0. 0. 0. 0. 0. 0. 0. 0. 0. 0. 0. 1.]\n",
      " [0. 0. 0. 0. 0. 0. 0. 0. 0. 0. 1. 0. 0. 0. 0.]\n",
      " [0. 0. 0. 0. 0. 1. 0. 0. 0. 0. 0. 0. 0. 0. 0.]\n",
      " [0. 0. 0. 0. 0. 0. 0. 0. 0. 0. 0. 0. 0. 0. 1.]\n",
      " [1. 0. 0. 0. 0. 0. 0. 0. 0. 0. 0. 0. 0. 0. 0.]\n",
      " [0. 0. 0. 0. 0. 0. 0. 0. 0. 0. 0. 0. 0. 0. 1.]\n",
      " [0. 0. 0. 0. 0. 0. 0. 0. 0. 0. 0. 0. 0. 1. 0.]\n",
      " [0. 0. 0. 0. 0. 0. 0. 0. 0. 0. 0. 0. 0. 0. 1.]\n",
      " [0. 0. 0. 0. 0. 0. 0. 0. 0. 0. 0. 0. 0. 0. 1.]\n",
      " [0. 0. 0. 0. 0. 0. 0. 0. 0. 0. 0. 0. 0. 0. 1.]\n",
      " [0. 0. 0. 0. 0. 0. 0. 0. 0. 0. 0. 0. 0. 0. 1.]\n",
      " [0. 0. 0. 0. 0. 0. 0. 0. 0. 0. 0. 0. 0. 0. 1.]\n",
      " [0. 0. 0. 0. 0. 0. 0. 0. 0. 0. 0. 0. 0. 0. 1.]\n",
      " [0. 0. 0. 0. 0. 0. 0. 0. 0. 0. 0. 0. 0. 0. 1.]\n",
      " [0. 0. 0. 0. 0. 0. 0. 0. 0. 0. 0. 0. 0. 0. 1.]]\n",
      "Shape of categorical data: (15, 15)\n"
     ]
    }
   ],
   "source": [
    "# 2. Padding Tag sequence\n",
    "y = [[tag2idx[w[1]] for w in s] for s in sentences]\n",
    "print(\"Before padding:\",y[0])\n",
    "y = pad_sequences(maxlen=maxlen, sequences=y, padding=\"post\", value=tag2idx[\"O\"])\n",
    "print(\"After padding:\",y[0])\n",
    "print(\"Categorical Data:\")\n",
    "y = [to_categorical(i, num_classes=n_tags) for i in y]\n",
    "print(y[0])\n",
    "print(\"Shape of categorical data:\",y[0].shape)"
   ]
  },
  {
   "cell_type": "markdown",
   "metadata": {},
   "source": [
    "### 10. Splitting the training and testing sample in a partition of 80/20\n",
    "- 80% training sample\n",
    "- 20% testing sample"
   ]
  },
  {
   "cell_type": "code",
   "execution_count": 392,
   "metadata": {},
   "outputs": [],
   "source": [
    "X_train, X_test, y_train, y_test = train_test_split(X, y, test_size=0.2)"
   ]
  },
  {
   "cell_type": "code",
   "execution_count": 393,
   "metadata": {},
   "outputs": [
    {
     "name": "stdout",
     "output_type": "stream",
     "text": [
      "3239\n"
     ]
    }
   ],
   "source": [
    "print(n_words)"
   ]
  },
  {
   "cell_type": "markdown",
   "metadata": {},
   "source": [
    "### 11. Neural Network Model"
   ]
  },
  {
   "cell_type": "code",
   "execution_count": 394,
   "metadata": {},
   "outputs": [
    {
     "name": "stderr",
     "output_type": "stream",
     "text": [
      "C:\\ProgramData\\Anaconda3\\lib\\site-packages\\ipykernel_launcher.py:7: UserWarning: Update your `Dense` call to the Keras 2 API: `Dense(1200, activation=\"relu\", kernel_constraint=<keras.con...)`\n",
      "  import sys\n"
     ]
    },
    {
     "name": "stdout",
     "output_type": "stream",
     "text": [
      "_________________________________________________________________\n",
      "Layer (type)                 Output Shape              Param #   \n",
      "=================================================================\n",
      "embedding_18 (Embedding)     (None, 15, 15)            48585     \n",
      "_________________________________________________________________\n",
      "dropout_18 (Dropout)         (None, 15, 15)            0         \n",
      "_________________________________________________________________\n",
      "dense_31 (Dense)             (None, 15, 1200)          19200     \n",
      "_________________________________________________________________\n",
      "bidirectional_18 (Bidirectio (None, 15, 200)           1040800   \n",
      "_________________________________________________________________\n",
      "time_distributed_18 (TimeDis (None, 15, 15)            3015      \n",
      "=================================================================\n",
      "Total params: 1,111,600\n",
      "Trainable params: 1,111,600\n",
      "Non-trainable params: 0\n",
      "_________________________________________________________________\n"
     ]
    }
   ],
   "source": [
    "#model\n",
    "model = Sequential()\n",
    "\n",
    "model.add(Embedding(input_dim=n_words, output_dim=15, input_length=15)) #to change words to ints\n",
    "\n",
    "model.add(Dropout(0.1))\n",
    "model.add(Dense(1200, activation='relu',W_constraint=maxnorm(1)))\n",
    "model.add(Bidirectional(LSTM(units=100, return_sequences=True, recurrent_dropout=0.1)))\n",
    "#output layer\n",
    "model.add(TimeDistributed(Dense(n_tags, activation=\"softmax\")))\n",
    "model.summary()"
   ]
  },
  {
   "cell_type": "code",
   "execution_count": 212,
   "metadata": {},
   "outputs": [],
   "source": [
    "# input = Input(shape=(13,))\n",
    "# model = Embedding(input_dim=n_words, output_dim=13, input_length=13)(input)\n",
    "# model = Dropout(0.1)(model)\n",
    "# model = Bidirectional(LSTM(units=100, return_sequences=True, recurrent_dropout=0.1))(model)\n",
    "# out = TimeDistributed(Dense(n_tags, activation=\"softmax\"))(model)  # softmax output layer\n",
    "# model = Model(input, out)\n",
    "# model.compile(optimizer=\"adam\", loss=\"categorical_crossentropy\", metrics=[\"accuracy\"])"
   ]
  },
  {
   "cell_type": "code",
   "execution_count": 395,
   "metadata": {},
   "outputs": [
    {
     "name": "stdout",
     "output_type": "stream",
     "text": [
      "Train on 1262 samples, validate on 316 samples\n",
      "Epoch 1/35\n",
      "1262/1262 [==============================] - 16s 12ms/step - loss: 1.3269 - acc: 0.7623 - val_loss: 0.9086 - val_acc: 0.7838\n",
      "Epoch 2/35\n",
      "1262/1262 [==============================] - 8s 6ms/step - loss: 0.8456 - acc: 0.7828 - val_loss: 0.7641 - val_acc: 0.7873\n",
      "Epoch 3/35\n",
      "1262/1262 [==============================] - 8s 6ms/step - loss: 0.6155 - acc: 0.8247 - val_loss: 0.4867 - val_acc: 0.8517\n",
      "Epoch 4/35\n",
      "1262/1262 [==============================] - 8s 6ms/step - loss: 0.3741 - acc: 0.8819 - val_loss: 0.3130 - val_acc: 0.9078\n",
      "Epoch 5/35\n",
      "1262/1262 [==============================] - 8s 6ms/step - loss: 0.2392 - acc: 0.9282 - val_loss: 0.2363 - val_acc: 0.9276\n",
      "Epoch 6/35\n",
      "1262/1262 [==============================] - 8s 6ms/step - loss: 0.1609 - acc: 0.9516 - val_loss: 0.2040 - val_acc: 0.9376\n",
      "Epoch 7/35\n",
      "1262/1262 [==============================] - 8s 6ms/step - loss: 0.1101 - acc: 0.9706 - val_loss: 0.1972 - val_acc: 0.9424\n",
      "Epoch 8/35\n",
      "1262/1262 [==============================] - 8s 6ms/step - loss: 0.0761 - acc: 0.9817 - val_loss: 0.1975 - val_acc: 0.9458\n",
      "Epoch 9/35\n",
      "1262/1262 [==============================] - 8s 6ms/step - loss: 0.0536 - acc: 0.9884 - val_loss: 0.1948 - val_acc: 0.9456\n",
      "Epoch 10/35\n",
      "1262/1262 [==============================] - 8s 6ms/step - loss: 0.0388 - acc: 0.9924 - val_loss: 0.1969 - val_acc: 0.9460\n",
      "Epoch 11/35\n",
      "1262/1262 [==============================] - 8s 6ms/step - loss: 0.0293 - acc: 0.9947 - val_loss: 0.2017 - val_acc: 0.9483\n",
      "Epoch 12/35\n",
      "1262/1262 [==============================] - 8s 6ms/step - loss: 0.0234 - acc: 0.9954 - val_loss: 0.2045 - val_acc: 0.9483\n",
      "Epoch 13/35\n",
      "1262/1262 [==============================] - 8s 6ms/step - loss: 0.0188 - acc: 0.9965 - val_loss: 0.2094 - val_acc: 0.9466\n",
      "Epoch 14/35\n",
      "1262/1262 [==============================] - 8s 6ms/step - loss: 0.0157 - acc: 0.9974 - val_loss: 0.2148 - val_acc: 0.9468\n",
      "Epoch 15/35\n",
      "1262/1262 [==============================] - 8s 6ms/step - loss: 0.0135 - acc: 0.9977 - val_loss: 0.2168 - val_acc: 0.9473\n",
      "Epoch 16/35\n",
      "1262/1262 [==============================] - 8s 6ms/step - loss: 0.0120 - acc: 0.9978 - val_loss: 0.2190 - val_acc: 0.9475\n",
      "Epoch 17/35\n",
      "1262/1262 [==============================] - 8s 6ms/step - loss: 0.0102 - acc: 0.9981 - val_loss: 0.2218 - val_acc: 0.9462\n",
      "Epoch 18/35\n",
      "1262/1262 [==============================] - 8s 6ms/step - loss: 0.0085 - acc: 0.9989 - val_loss: 0.2270 - val_acc: 0.9451\n",
      "Epoch 19/35\n",
      "1262/1262 [==============================] - 8s 6ms/step - loss: 0.0075 - acc: 0.9987 - val_loss: 0.2287 - val_acc: 0.9447\n",
      "Epoch 20/35\n",
      "1262/1262 [==============================] - 8s 6ms/step - loss: 0.0071 - acc: 0.9987 - val_loss: 0.2283 - val_acc: 0.9466\n",
      "Epoch 21/35\n",
      "1262/1262 [==============================] - 8s 6ms/step - loss: 0.0069 - acc: 0.9988 - val_loss: 0.2368 - val_acc: 0.9441\n",
      "Epoch 22/35\n",
      "1262/1262 [==============================] - 8s 6ms/step - loss: 0.0056 - acc: 0.9989 - val_loss: 0.2406 - val_acc: 0.9445\n",
      "Epoch 23/35\n",
      "1262/1262 [==============================] - 8s 6ms/step - loss: 0.0051 - acc: 0.9991 - val_loss: 0.2444 - val_acc: 0.9449\n",
      "Epoch 24/35\n",
      "1262/1262 [==============================] - 8s 6ms/step - loss: 0.0052 - acc: 0.9988 - val_loss: 0.2420 - val_acc: 0.9449\n",
      "Epoch 25/35\n",
      "1262/1262 [==============================] - 8s 6ms/step - loss: 0.0047 - acc: 0.9992 - val_loss: 0.2404 - val_acc: 0.9456\n",
      "Epoch 26/35\n",
      "1262/1262 [==============================] - 8s 6ms/step - loss: 0.0039 - acc: 0.9993 - val_loss: 0.2473 - val_acc: 0.9435: 0.0039 - acc: 0.99\n",
      "Epoch 27/35\n",
      "1262/1262 [==============================] - 8s 6ms/step - loss: 0.0034 - acc: 0.9995 - val_loss: 0.2472 - val_acc: 0.9447\n",
      "Epoch 28/35\n",
      "1262/1262 [==============================] - 8s 6ms/step - loss: 0.0031 - acc: 0.9996 - val_loss: 0.2543 - val_acc: 0.9441\n",
      "Epoch 29/35\n",
      "1262/1262 [==============================] - 8s 6ms/step - loss: 0.0033 - acc: 0.9995 - val_loss: 0.2569 - val_acc: 0.9426\n",
      "Epoch 30/35\n",
      "1262/1262 [==============================] - 8s 7ms/step - loss: 0.0039 - acc: 0.9992 - val_loss: 0.2602 - val_acc: 0.9414\n",
      "Epoch 31/35\n",
      "1262/1262 [==============================] - 8s 6ms/step - loss: 0.0033 - acc: 0.9992 - val_loss: 0.2610 - val_acc: 0.9418\n",
      "Epoch 32/35\n",
      "1262/1262 [==============================] - 8s 6ms/step - loss: 0.0023 - acc: 0.9996 - val_loss: 0.2650 - val_acc: 0.9407\n",
      "Epoch 33/35\n",
      "1262/1262 [==============================] - 8s 6ms/step - loss: 0.0025 - acc: 0.9995 - val_loss: 0.2640 - val_acc: 0.9409\n",
      "Epoch 34/35\n",
      "1262/1262 [==============================] - 8s 6ms/step - loss: 0.0026 - acc: 0.9994 - val_loss: 0.2631 - val_acc: 0.9420\n",
      "Epoch 35/35\n",
      "1262/1262 [==============================] - 8s 6ms/step - loss: 0.0018 - acc: 0.9998 - val_loss: 0.2701 - val_acc: 0.9416\n"
     ]
    }
   ],
   "source": [
    "# Compile the model\n",
    "model.compile(optimizer=\"adam\", loss=\"categorical_crossentropy\", metrics=[\"accuracy\"])\n",
    "# Train the model\n",
    "history = model.fit(X_train, np.array(y_train), batch_size=32, epochs=35, validation_split=0.2, verbose=1)"
   ]
  },
  {
   "cell_type": "markdown",
   "metadata": {},
   "source": [
    "### 12. Calculating the score"
   ]
  },
  {
   "cell_type": "code",
   "execution_count": 407,
   "metadata": {},
   "outputs": [
    {
     "name": "stdout",
     "output_type": "stream",
     "text": [
      "=============================== Score =========================================\n",
      "395/395 [==============================] - 1s 2ms/step\n",
      "Test accuracy: 0.9414345929894267 %\n"
     ]
    }
   ],
   "source": [
    "print(\"=============================== Score =========================================\")\n",
    "# Finally calucating the score.\n",
    "score = model.evaluate(np.array(X_test), np.array(y_test), verbose=1)\n",
    "print('Test accuracy:', score[1],'%')\n"
   ]
  },
  {
   "cell_type": "markdown",
   "metadata": {},
   "source": [
    "### 13. Predicting the test scamples"
   ]
  },
  {
   "cell_type": "code",
   "execution_count": 482,
   "metadata": {},
   "outputs": [
    {
     "name": "stdout",
     "output_type": "stream",
     "text": [
      "I really need a : timeRange\n",
      "top-rated      : sort\n",
      "restaurant     : restaurant_type\n",
      " that can seat : O\n",
      "3              : party_size_number\n",
      " people        : O\n",
      "in 1 minute    : timeRange\n",
      " from now.     : timeRange\n",
      "ENDPAD         : O\n",
      "ENDPAD         : O\n",
      "ENDPAD         : O\n",
      "ENDPAD         : O\n",
      "ENDPAD         : O\n",
      "ENDPAD         : O\n",
      "ENDPAD         : O\n"
     ]
    }
   ],
   "source": [
    "i = 0\n",
    "p = model.predict(np.array([X_test[i]]))\n",
    "p = np.argmax(p, axis=-1)\n",
    "#print(\"{:15} ({:5}): {}\".format(\"Word\", \"True\", \"Pred\"))\n",
    "for w,pred in zip(X_test[i],p[0]):\n",
    "    print(\"{:15}: {}\".format(words[w],tags[pred]))"
   ]
  },
  {
   "cell_type": "markdown",
   "metadata": {},
   "source": [
    "### 14. Predicting my text "
   ]
  },
  {
   "cell_type": "code",
   "execution_count": 480,
   "metadata": {},
   "outputs": [
    {
     "name": "stdout",
     "output_type": "stream",
     "text": [
      "[3238, 3238, 3206, 3238, 426, 3238, 3238, 271]\n",
      "[14, 14, 5, 14, 3, 14, 14, 9, 14, 14, 14, 14, 14, 14, 14]\n",
      "Word: Book               Tag: O\n",
      "Word: a               Tag: O\n",
      "Word: restaurant               Tag: restaurant_type\n",
      "Word: with               Tag: O\n",
      "Word: parking               Tag: facility\n",
      "Word: facility               Tag: O\n",
      "Word: for               Tag: O\n",
      "Word: 3               Tag: party_size_number\n"
     ]
    }
   ],
   "source": [
    "sequences =[]\n",
    "sentence = \"Book a restaurant with parking facility for 3\"\n",
    "for word in sentence.split(\" \"):\n",
    "    try:\n",
    "        sequences.append(word2idx[word])\n",
    "    except:\n",
    "        sequences.append(word2idx['ENDPAD'])    \n",
    "print(sequences)        \n",
    "padded_sequence = pad_sequences(maxlen=maxlen, sequences=[sequences], padding=\"post\",value=n_words - 1)\n",
    "p = model.predict([padded_sequence])\n",
    "p = np.argmax(p, axis=-1)\n",
    "tag_list = []\n",
    "for i in p:\n",
    "    for j in i:\n",
    "        tag_list.append(j)\n",
    "print(tag_list)\n",
    "for i in p:\n",
    "    count = 0\n",
    "    for j in sentence.split():\n",
    "        print(\"Word:\",j,\"             \",\"Tag:\",tags[tag_list[count]])\n",
    "        count = count + 1"
   ]
  },
  {
   "cell_type": "markdown",
   "metadata": {},
   "source": [
    "### 15.Saving your model to json and weights as HDF5 format"
   ]
  },
  {
   "cell_type": "code",
   "execution_count": 484,
   "metadata": {},
   "outputs": [
    {
     "name": "stdout",
     "output_type": "stream",
     "text": [
      "Saved model to disk\n"
     ]
    }
   ],
   "source": [
    "# serialize model to JSON\n",
    "model_json = model.to_json()\n",
    "with open(\"./data/model.json\", \"w\") as json_file:\n",
    "    json_file.write(model_json)\n",
    "\n",
    "# serialize weights to HDF5\n",
    "model.save_weights(\"./data/model.h5\")\n",
    "print(\"Saved model to disk\")"
   ]
  }
 ],
 "metadata": {
  "kernelspec": {
   "display_name": "Python 3",
   "language": "python",
   "name": "python3"
  },
  "language_info": {
   "codemirror_mode": {
    "name": "ipython",
    "version": 3
   },
   "file_extension": ".py",
   "mimetype": "text/x-python",
   "name": "python",
   "nbconvert_exporter": "python",
   "pygments_lexer": "ipython3",
   "version": "3.6.5"
  }
 },
 "nbformat": 4,
 "nbformat_minor": 2
}
